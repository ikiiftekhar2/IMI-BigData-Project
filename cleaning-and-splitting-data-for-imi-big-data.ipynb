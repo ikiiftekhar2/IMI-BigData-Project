{
 "cells": [
  {
   "cell_type": "markdown",
   "id": "44c5b896",
   "metadata": {
    "papermill": {
     "duration": 0.010504,
     "end_time": "2023-02-08T00:57:52.345858",
     "exception": false,
     "start_time": "2023-02-08T00:57:52.335354",
     "status": "completed"
    },
    "tags": []
   },
   "source": [
    "**Importing Libararies and Data** "
   ]
  },
  {
   "cell_type": "code",
   "execution_count": 1,
   "id": "639b552e",
   "metadata": {
    "execution": {
     "iopub.execute_input": "2023-02-08T00:57:52.366140Z",
     "iopub.status.busy": "2023-02-08T00:57:52.365685Z",
     "iopub.status.idle": "2023-02-08T00:58:09.984888Z",
     "shell.execute_reply": "2023-02-08T00:58:09.983563Z"
    },
    "papermill": {
     "duration": 17.63224,
     "end_time": "2023-02-08T00:58:09.987429",
     "exception": false,
     "start_time": "2023-02-08T00:57:52.355189",
     "status": "completed"
    },
    "tags": []
   },
   "outputs": [
    {
     "name": "stdout",
     "output_type": "stream",
     "text": [
      "Collecting gdown\r\n",
      "  Downloading gdown-4.6.0-py3-none-any.whl (14 kB)\r\n",
      "Collecting sns\r\n",
      "  Downloading sns-0.1.tar.gz (2.1 kB)\r\n",
      "  Preparing metadata (setup.py) ... \u001b[?25l-\b \bdone\r\n",
      "\u001b[?25hCollecting fastcluster\r\n",
      "  Downloading fastcluster-1.2.6-cp37-cp37m-manylinux_2_5_x86_64.manylinux1_x86_64.manylinux_2_17_x86_64.manylinux2014_x86_64.whl (194 kB)\r\n",
      "\u001b[2K     \u001b[90m━━━━━━━━━━━━━━━━━━━━━━━━━━━━━━━━━━━━━\u001b[0m \u001b[32m194.4/194.4 kB\u001b[0m \u001b[31m751.0 kB/s\u001b[0m eta \u001b[36m0:00:00\u001b[0m\r\n",
      "\u001b[?25hRequirement already satisfied: seaborn in /opt/conda/lib/python3.7/site-packages (0.11.2)\r\n",
      "Requirement already satisfied: filelock in /opt/conda/lib/python3.7/site-packages (from gdown) (3.7.1)\r\n",
      "Requirement already satisfied: six in /opt/conda/lib/python3.7/site-packages (from gdown) (1.15.0)\r\n",
      "Requirement already satisfied: beautifulsoup4 in /opt/conda/lib/python3.7/site-packages (from gdown) (4.11.1)\r\n",
      "Requirement already satisfied: tqdm in /opt/conda/lib/python3.7/site-packages (from gdown) (4.64.0)\r\n",
      "Requirement already satisfied: requests[socks] in /opt/conda/lib/python3.7/site-packages (from gdown) (2.28.1)\r\n",
      "Requirement already satisfied: numpy>=1.9 in /opt/conda/lib/python3.7/site-packages (from fastcluster) (1.21.6)\r\n",
      "Requirement already satisfied: scipy>=1.0 in /opt/conda/lib/python3.7/site-packages (from seaborn) (1.7.3)\r\n",
      "Requirement already satisfied: matplotlib>=2.2 in /opt/conda/lib/python3.7/site-packages (from seaborn) (3.5.2)\r\n",
      "Requirement already satisfied: pandas>=0.23 in /opt/conda/lib/python3.7/site-packages (from seaborn) (1.3.5)\r\n",
      "Requirement already satisfied: fonttools>=4.22.0 in /opt/conda/lib/python3.7/site-packages (from matplotlib>=2.2->seaborn) (4.33.3)\r\n",
      "Requirement already satisfied: cycler>=0.10 in /opt/conda/lib/python3.7/site-packages (from matplotlib>=2.2->seaborn) (0.11.0)\r\n",
      "Requirement already satisfied: kiwisolver>=1.0.1 in /opt/conda/lib/python3.7/site-packages (from matplotlib>=2.2->seaborn) (1.4.3)\r\n",
      "Requirement already satisfied: pillow>=6.2.0 in /opt/conda/lib/python3.7/site-packages (from matplotlib>=2.2->seaborn) (9.1.1)\r\n",
      "Requirement already satisfied: python-dateutil>=2.7 in /opt/conda/lib/python3.7/site-packages (from matplotlib>=2.2->seaborn) (2.8.2)\r\n",
      "Requirement already satisfied: packaging>=20.0 in /opt/conda/lib/python3.7/site-packages (from matplotlib>=2.2->seaborn) (23.0)\r\n",
      "Requirement already satisfied: pyparsing>=2.2.1 in /opt/conda/lib/python3.7/site-packages (from matplotlib>=2.2->seaborn) (3.0.9)\r\n",
      "Requirement already satisfied: pytz>=2017.3 in /opt/conda/lib/python3.7/site-packages (from pandas>=0.23->seaborn) (2022.1)\r\n",
      "Requirement already satisfied: soupsieve>1.2 in /opt/conda/lib/python3.7/site-packages (from beautifulsoup4->gdown) (2.3.1)\r\n",
      "Requirement already satisfied: urllib3<1.27,>=1.21.1 in /opt/conda/lib/python3.7/site-packages (from requests[socks]->gdown) (1.26.14)\r\n",
      "Requirement already satisfied: certifi>=2017.4.17 in /opt/conda/lib/python3.7/site-packages (from requests[socks]->gdown) (2022.12.7)\r\n",
      "Requirement already satisfied: charset-normalizer<3,>=2 in /opt/conda/lib/python3.7/site-packages (from requests[socks]->gdown) (2.1.0)\r\n",
      "Requirement already satisfied: idna<4,>=2.5 in /opt/conda/lib/python3.7/site-packages (from requests[socks]->gdown) (3.3)\r\n",
      "Requirement already satisfied: PySocks!=1.5.7,>=1.5.6 in /opt/conda/lib/python3.7/site-packages (from requests[socks]->gdown) (1.7.1)\r\n",
      "Requirement already satisfied: typing-extensions in /opt/conda/lib/python3.7/site-packages (from kiwisolver>=1.0.1->matplotlib>=2.2->seaborn) (4.1.1)\r\n",
      "Building wheels for collected packages: sns\r\n",
      "  Building wheel for sns (setup.py) ... \u001b[?25l-\b \b\\\b \bdone\r\n",
      "\u001b[?25h  Created wheel for sns: filename=sns-0.1-py3-none-any.whl size=2662 sha256=216480a1032f22fa08cb4e99ad21782c2ce77531b6b13f07420dc9b7efeb0ec5\r\n",
      "  Stored in directory: /root/.cache/pip/wheels/cc/26/02/785cf1aeaa8d9e565796a1b962467bcdf62172c8fe12096ffb\r\n",
      "Successfully built sns\r\n",
      "Installing collected packages: sns, fastcluster, gdown\r\n",
      "Successfully installed fastcluster-1.2.6 gdown-4.6.0 sns-0.1\r\n",
      "\u001b[33mWARNING: Running pip as the 'root' user can result in broken permissions and conflicting behaviour with the system package manager. It is recommended to use a virtual environment instead: https://pip.pypa.io/warnings/venv\u001b[0m\u001b[33m\r\n",
      "\u001b[0mDownloading...\r\n",
      "From: https://drive.google.com/uc?id=1ZuWeh_Kvbbuo4DB3WOSIfvN5XT_eMsYc\r\n",
      "To: /kaggle/working/data.tar.gz\r\n",
      "100%|██████████████████████████████████████| 57.7M/57.7M [00:00<00:00, 58.6MB/s]\r\n"
     ]
    }
   ],
   "source": [
    "!pip install gdown sns fastcluster seaborn\n",
    "!gdown https://drive.google.com/file/d/1ZuWeh_Kvbbuo4DB3WOSIfvN5XT_eMsYc/view?usp=sharing --fuzzy\n",
    "!tar -xf data.tar.gz"
   ]
  },
  {
   "cell_type": "code",
   "execution_count": 2,
   "id": "e9b2b9cf",
   "metadata": {
    "execution": {
     "iopub.execute_input": "2023-02-08T00:58:10.012922Z",
     "iopub.status.busy": "2023-02-08T00:58:10.012586Z",
     "iopub.status.idle": "2023-02-08T00:58:11.841432Z",
     "shell.execute_reply": "2023-02-08T00:58:11.840398Z"
    },
    "papermill": {
     "duration": 1.844807,
     "end_time": "2023-02-08T00:58:11.843942",
     "exception": false,
     "start_time": "2023-02-08T00:58:09.999135",
     "status": "completed"
    },
    "tags": []
   },
   "outputs": [],
   "source": [
    "import numpy as np\n",
    "import pandas as pd\n",
    "import pickle\n",
    "from patsy import dmatrices\n",
    "import statsmodels.api as sm\n",
    "from statsmodels.stats.outliers_influence import variance_inflation_factor\n",
    "from statsmodels.tools.tools import add_constant\n",
    "from datetime import datetime\n",
    "from sklearn.preprocessing import LabelEncoder,OneHotEncoder\n",
    "from sklearn.model_selection import train_test_split\n",
    "import seaborn as sb"
   ]
  },
  {
   "cell_type": "code",
   "execution_count": 3,
   "id": "72e24d8b",
   "metadata": {
    "execution": {
     "iopub.execute_input": "2023-02-08T00:58:11.869469Z",
     "iopub.status.busy": "2023-02-08T00:58:11.869047Z",
     "iopub.status.idle": "2023-02-08T00:58:14.469908Z",
     "shell.execute_reply": "2023-02-08T00:58:14.469191Z"
    },
    "papermill": {
     "duration": 2.615618,
     "end_time": "2023-02-08T00:58:14.472072",
     "exception": false,
     "start_time": "2023-02-08T00:58:11.856454",
     "status": "completed"
    },
    "tags": []
   },
   "outputs": [],
   "source": [
    "edges_raw = pd.read_csv(\"UofT_edges.csv\")\n",
    "occupation_risk_raw = pd.read_csv(\"UofT_occupation_risk.csv\")\n",
    "nodes_raw = pd.read_csv(\"UofT_nodes.csv\")\n",
    "data_dict = pd.read_excel(\"Data dictionary.xlsx\")"
   ]
  },
  {
   "cell_type": "markdown",
   "id": "0c6f75c0",
   "metadata": {
    "papermill": {
     "duration": 0.010783,
     "end_time": "2023-02-08T00:58:14.494147",
     "exception": false,
     "start_time": "2023-02-08T00:58:14.483364",
     "status": "completed"
    },
    "tags": []
   },
   "source": [
    "**Merging data and doing primary analysis**"
   ]
  },
  {
   "cell_type": "code",
   "execution_count": 4,
   "id": "3d00c8a8",
   "metadata": {
    "execution": {
     "iopub.execute_input": "2023-02-08T00:58:14.518859Z",
     "iopub.status.busy": "2023-02-08T00:58:14.518350Z",
     "iopub.status.idle": "2023-02-08T00:58:14.540515Z",
     "shell.execute_reply": "2023-02-08T00:58:14.539601Z"
    },
    "papermill": {
     "duration": 0.037818,
     "end_time": "2023-02-08T00:58:14.543167",
     "exception": false,
     "start_time": "2023-02-08T00:58:14.505349",
     "status": "completed"
    },
    "tags": []
   },
   "outputs": [
    {
     "data": {
      "text/html": [
       "<div>\n",
       "<style scoped>\n",
       "    .dataframe tbody tr th:only-of-type {\n",
       "        vertical-align: middle;\n",
       "    }\n",
       "\n",
       "    .dataframe tbody tr th {\n",
       "        vertical-align: top;\n",
       "    }\n",
       "\n",
       "    .dataframe thead th {\n",
       "        text-align: right;\n",
       "    }\n",
       "</style>\n",
       "<table border=\"1\" class=\"dataframe\">\n",
       "  <thead>\n",
       "    <tr style=\"text-align: right;\">\n",
       "      <th></th>\n",
       "      <th>Unnamed: 0</th>\n",
       "      <th>Unnamed: 1</th>\n",
       "      <th>Unnamed: 2</th>\n",
       "      <th>Unnamed: 3</th>\n",
       "    </tr>\n",
       "  </thead>\n",
       "  <tbody>\n",
       "    <tr>\n",
       "      <th>0</th>\n",
       "      <td>Node features</td>\n",
       "      <td>NaN</td>\n",
       "      <td>NaN</td>\n",
       "      <td>NaN</td>\n",
       "    </tr>\n",
       "    <tr>\n",
       "      <th>1</th>\n",
       "      <td>This table contains the customer features. Cus...</td>\n",
       "      <td>NaN</td>\n",
       "      <td>NaN</td>\n",
       "      <td>NaN</td>\n",
       "    </tr>\n",
       "    <tr>\n",
       "      <th>2</th>\n",
       "      <td>Feature</td>\n",
       "      <td>Description</td>\n",
       "      <td>NaN</td>\n",
       "      <td>Type</td>\n",
       "    </tr>\n",
       "    <tr>\n",
       "      <th>3</th>\n",
       "      <td>BIRTH_DT</td>\n",
       "      <td>Date of birth of customer</td>\n",
       "      <td>NaN</td>\n",
       "      <td>Date</td>\n",
       "    </tr>\n",
       "    <tr>\n",
       "      <th>4</th>\n",
       "      <td>CUST_ADD_DT</td>\n",
       "      <td>Date customer joined bank</td>\n",
       "      <td>NaN</td>\n",
       "      <td>Date</td>\n",
       "    </tr>\n",
       "    <tr>\n",
       "      <th>5</th>\n",
       "      <td>OCPTN_NM</td>\n",
       "      <td>Occupation code of the customer. It can be use...</td>\n",
       "      <td>NaN</td>\n",
       "      <td>int</td>\n",
       "    </tr>\n",
       "    <tr>\n",
       "      <th>6</th>\n",
       "      <td>RES_CNTRY_CA</td>\n",
       "      <td>Whether customer lives in Canada.</td>\n",
       "      <td>NaN</td>\n",
       "      <td>Bool</td>\n",
       "    </tr>\n",
       "    <tr>\n",
       "      <th>7</th>\n",
       "      <td>CNTRY_OF_INCOME_CA</td>\n",
       "      <td>Whether customer received income in Canada.</td>\n",
       "      <td>NaN</td>\n",
       "      <td>Bool</td>\n",
       "    </tr>\n",
       "    <tr>\n",
       "      <th>8</th>\n",
       "      <td>PEP_FL</td>\n",
       "      <td>Whether the person is PEP.</td>\n",
       "      <td>NaN</td>\n",
       "      <td>Bool</td>\n",
       "    </tr>\n",
       "    <tr>\n",
       "      <th>9</th>\n",
       "      <td>CASH_SUM_IN</td>\n",
       "      <td>Sum of cash in last 12 months</td>\n",
       "      <td>NaN</td>\n",
       "      <td>Float</td>\n",
       "    </tr>\n",
       "    <tr>\n",
       "      <th>10</th>\n",
       "      <td>CASH_CNT_IN</td>\n",
       "      <td>Count of cash in last 12 months</td>\n",
       "      <td>NaN</td>\n",
       "      <td>int</td>\n",
       "    </tr>\n",
       "    <tr>\n",
       "      <th>11</th>\n",
       "      <td>CASH_SUM_OUT</td>\n",
       "      <td>Sum of cash out last 12 months</td>\n",
       "      <td>NaN</td>\n",
       "      <td>Float</td>\n",
       "    </tr>\n",
       "    <tr>\n",
       "      <th>12</th>\n",
       "      <td>CASH_CNT_OUT</td>\n",
       "      <td>Count of cash out last 12 months</td>\n",
       "      <td>NaN</td>\n",
       "      <td>int</td>\n",
       "    </tr>\n",
       "    <tr>\n",
       "      <th>13</th>\n",
       "      <td>WIRES_SUM_IN</td>\n",
       "      <td>Sum of wire in last 12 months</td>\n",
       "      <td>NaN</td>\n",
       "      <td>Float</td>\n",
       "    </tr>\n",
       "    <tr>\n",
       "      <th>14</th>\n",
       "      <td>WIRES_CNT_IN</td>\n",
       "      <td>Count of wire in last 12 months</td>\n",
       "      <td>NaN</td>\n",
       "      <td>int</td>\n",
       "    </tr>\n",
       "    <tr>\n",
       "      <th>15</th>\n",
       "      <td>WIRES_SUM_OUT</td>\n",
       "      <td>Sum of wire out last 12 months</td>\n",
       "      <td>NaN</td>\n",
       "      <td>Float</td>\n",
       "    </tr>\n",
       "    <tr>\n",
       "      <th>16</th>\n",
       "      <td>WIRES_CNT_OUT</td>\n",
       "      <td>Count of wire out last 12 months</td>\n",
       "      <td>NaN</td>\n",
       "      <td>int</td>\n",
       "    </tr>\n",
       "    <tr>\n",
       "      <th>17</th>\n",
       "      <td>COUNTRY_RISK_INCOME</td>\n",
       "      <td>Country of income risk rating</td>\n",
       "      <td>NaN</td>\n",
       "      <td>int</td>\n",
       "    </tr>\n",
       "    <tr>\n",
       "      <th>18</th>\n",
       "      <td>COUNTRY_RISK_RESIDENCY</td>\n",
       "      <td>Country of residency risk rating.</td>\n",
       "      <td>NaN</td>\n",
       "      <td>int</td>\n",
       "    </tr>\n",
       "    <tr>\n",
       "      <th>19</th>\n",
       "      <td>RISK</td>\n",
       "      <td>Customer risk rating.</td>\n",
       "      <td>NaN</td>\n",
       "      <td>STR(categorical)</td>\n",
       "    </tr>\n",
       "    <tr>\n",
       "      <th>20</th>\n",
       "      <td>NAME</td>\n",
       "      <td>Name of customer</td>\n",
       "      <td>NaN</td>\n",
       "      <td>STR</td>\n",
       "    </tr>\n",
       "    <tr>\n",
       "      <th>21</th>\n",
       "      <td>GENDER</td>\n",
       "      <td>Gender</td>\n",
       "      <td>NaN</td>\n",
       "      <td>bool</td>\n",
       "    </tr>\n",
       "    <tr>\n",
       "      <th>22</th>\n",
       "      <td>CUSTOMER_ID</td>\n",
       "      <td>Customer ID</td>\n",
       "      <td>NaN</td>\n",
       "      <td>int</td>\n",
       "    </tr>\n",
       "    <tr>\n",
       "      <th>23</th>\n",
       "      <td>NaN</td>\n",
       "      <td>NaN</td>\n",
       "      <td>NaN</td>\n",
       "      <td>NaN</td>\n",
       "    </tr>\n",
       "    <tr>\n",
       "      <th>24</th>\n",
       "      <td>Edges</td>\n",
       "      <td>NaN</td>\n",
       "      <td>NaN</td>\n",
       "      <td>NaN</td>\n",
       "    </tr>\n",
       "    <tr>\n",
       "      <th>25</th>\n",
       "      <td>This table contains information about customer...</td>\n",
       "      <td>NaN</td>\n",
       "      <td>NaN</td>\n",
       "      <td>NaN</td>\n",
       "    </tr>\n",
       "    <tr>\n",
       "      <th>26</th>\n",
       "      <td>Features</td>\n",
       "      <td>Description</td>\n",
       "      <td>NaN</td>\n",
       "      <td>NaN</td>\n",
       "    </tr>\n",
       "    <tr>\n",
       "      <th>27</th>\n",
       "      <td>Source</td>\n",
       "      <td>Source customer id for email transfer.</td>\n",
       "      <td>NaN</td>\n",
       "      <td>int</td>\n",
       "    </tr>\n",
       "    <tr>\n",
       "      <th>28</th>\n",
       "      <td>Target</td>\n",
       "      <td>Target customer id for email transfer.</td>\n",
       "      <td>NaN</td>\n",
       "      <td>int</td>\n",
       "    </tr>\n",
       "    <tr>\n",
       "      <th>29</th>\n",
       "      <td>emt</td>\n",
       "      <td>Value of email transfer over 12 months.</td>\n",
       "      <td>NaN</td>\n",
       "      <td>float</td>\n",
       "    </tr>\n",
       "    <tr>\n",
       "      <th>30</th>\n",
       "      <td>Occupation risk</td>\n",
       "      <td>NaN</td>\n",
       "      <td>NaN</td>\n",
       "      <td>NaN</td>\n",
       "    </tr>\n",
       "    <tr>\n",
       "      <th>31</th>\n",
       "      <td>This table contains the information about the ...</td>\n",
       "      <td>NaN</td>\n",
       "      <td>NaN</td>\n",
       "      <td>NaN</td>\n",
       "    </tr>\n",
       "    <tr>\n",
       "      <th>32</th>\n",
       "      <td>Features</td>\n",
       "      <td>Description</td>\n",
       "      <td>NaN</td>\n",
       "      <td>NaN</td>\n",
       "    </tr>\n",
       "    <tr>\n",
       "      <th>33</th>\n",
       "      <td>Code</td>\n",
       "      <td>Occupation code used in customer features.</td>\n",
       "      <td>NaN</td>\n",
       "      <td>int</td>\n",
       "    </tr>\n",
       "    <tr>\n",
       "      <th>34</th>\n",
       "      <td>Risk</td>\n",
       "      <td>Occupation risk.</td>\n",
       "      <td>NaN</td>\n",
       "      <td>STR(categorical)</td>\n",
       "    </tr>\n",
       "  </tbody>\n",
       "</table>\n",
       "</div>"
      ],
      "text/plain": [
       "                                           Unnamed: 0  \\\n",
       "0                                       Node features   \n",
       "1   This table contains the customer features. Cus...   \n",
       "2                                             Feature   \n",
       "3                                            BIRTH_DT   \n",
       "4                                         CUST_ADD_DT   \n",
       "5                                            OCPTN_NM   \n",
       "6                                        RES_CNTRY_CA   \n",
       "7                                  CNTRY_OF_INCOME_CA   \n",
       "8                                              PEP_FL   \n",
       "9                                         CASH_SUM_IN   \n",
       "10                                        CASH_CNT_IN   \n",
       "11                                       CASH_SUM_OUT   \n",
       "12                                       CASH_CNT_OUT   \n",
       "13                                       WIRES_SUM_IN   \n",
       "14                                       WIRES_CNT_IN   \n",
       "15                                      WIRES_SUM_OUT   \n",
       "16                                      WIRES_CNT_OUT   \n",
       "17                                COUNTRY_RISK_INCOME   \n",
       "18                             COUNTRY_RISK_RESIDENCY   \n",
       "19                                               RISK   \n",
       "20                                               NAME   \n",
       "21                                             GENDER   \n",
       "22                                        CUSTOMER_ID   \n",
       "23                                                NaN   \n",
       "24                                              Edges   \n",
       "25  This table contains information about customer...   \n",
       "26                                          Features    \n",
       "27                                             Source   \n",
       "28                                             Target   \n",
       "29                                                emt   \n",
       "30                                   Occupation risk    \n",
       "31  This table contains the information about the ...   \n",
       "32                                          Features    \n",
       "33                                               Code   \n",
       "34                                               Risk   \n",
       "\n",
       "                                           Unnamed: 1  Unnamed: 2  \\\n",
       "0                                                 NaN         NaN   \n",
       "1                                                 NaN         NaN   \n",
       "2                                         Description         NaN   \n",
       "3                           Date of birth of customer         NaN   \n",
       "4                           Date customer joined bank         NaN   \n",
       "5   Occupation code of the customer. It can be use...         NaN   \n",
       "6                   Whether customer lives in Canada.         NaN   \n",
       "7        Whether customer received income in Canada.          NaN   \n",
       "8                         Whether the person is PEP.          NaN   \n",
       "9                       Sum of cash in last 12 months         NaN   \n",
       "10                    Count of cash in last 12 months         NaN   \n",
       "11                     Sum of cash out last 12 months         NaN   \n",
       "12                   Count of cash out last 12 months         NaN   \n",
       "13                      Sum of wire in last 12 months         NaN   \n",
       "14                    Count of wire in last 12 months         NaN   \n",
       "15                     Sum of wire out last 12 months         NaN   \n",
       "16                   Count of wire out last 12 months         NaN   \n",
       "17                     Country of income risk rating          NaN   \n",
       "18                 Country of residency risk rating.          NaN   \n",
       "19                             Customer risk rating.          NaN   \n",
       "20                                   Name of customer         NaN   \n",
       "21                                            Gender          NaN   \n",
       "22                                        Customer ID         NaN   \n",
       "23                                                NaN         NaN   \n",
       "24                                                NaN         NaN   \n",
       "25                                                NaN         NaN   \n",
       "26                                        Description         NaN   \n",
       "27            Source customer id for email transfer.          NaN   \n",
       "28             Target customer id for email transfer.         NaN   \n",
       "29           Value of email transfer over 12 months.          NaN   \n",
       "30                                                NaN         NaN   \n",
       "31                                                NaN         NaN   \n",
       "32                                        Description         NaN   \n",
       "33         Occupation code used in customer features.         NaN   \n",
       "34                                  Occupation risk.          NaN   \n",
       "\n",
       "           Unnamed: 3  \n",
       "0                 NaN  \n",
       "1                 NaN  \n",
       "2                Type  \n",
       "3                Date  \n",
       "4                Date  \n",
       "5                 int  \n",
       "6                Bool  \n",
       "7                Bool  \n",
       "8                Bool  \n",
       "9               Float  \n",
       "10                int  \n",
       "11              Float  \n",
       "12                int  \n",
       "13              Float  \n",
       "14                int  \n",
       "15              Float  \n",
       "16                int  \n",
       "17                int  \n",
       "18                int  \n",
       "19  STR(categorical)   \n",
       "20                STR  \n",
       "21               bool  \n",
       "22                int  \n",
       "23                NaN  \n",
       "24                NaN  \n",
       "25                NaN  \n",
       "26                NaN  \n",
       "27                int  \n",
       "28                int  \n",
       "29              float  \n",
       "30                NaN  \n",
       "31                NaN  \n",
       "32                NaN  \n",
       "33                int  \n",
       "34   STR(categorical)  "
      ]
     },
     "execution_count": 4,
     "metadata": {},
     "output_type": "execute_result"
    }
   ],
   "source": [
    "data_dict"
   ]
  },
  {
   "cell_type": "code",
   "execution_count": 5,
   "id": "4635f611",
   "metadata": {
    "execution": {
     "iopub.execute_input": "2023-02-08T00:58:14.568635Z",
     "iopub.status.busy": "2023-02-08T00:58:14.568258Z",
     "iopub.status.idle": "2023-02-08T00:58:14.591510Z",
     "shell.execute_reply": "2023-02-08T00:58:14.589996Z"
    },
    "papermill": {
     "duration": 0.03822,
     "end_time": "2023-02-08T00:58:14.593397",
     "exception": false,
     "start_time": "2023-02-08T00:58:14.555177",
     "status": "completed"
    },
    "tags": []
   },
   "outputs": [
    {
     "data": {
      "text/html": [
       "<div>\n",
       "<style scoped>\n",
       "    .dataframe tbody tr th:only-of-type {\n",
       "        vertical-align: middle;\n",
       "    }\n",
       "\n",
       "    .dataframe tbody tr th {\n",
       "        vertical-align: top;\n",
       "    }\n",
       "\n",
       "    .dataframe thead th {\n",
       "        text-align: right;\n",
       "    }\n",
       "</style>\n",
       "<table border=\"1\" class=\"dataframe\">\n",
       "  <thead>\n",
       "    <tr style=\"text-align: right;\">\n",
       "      <th></th>\n",
       "      <th>BIRTH_DT</th>\n",
       "      <th>CUST_ADD_DT</th>\n",
       "      <th>OCPTN_NM</th>\n",
       "      <th>RES_CNTRY_CA</th>\n",
       "      <th>CNTRY_OF_INCOME_CA</th>\n",
       "      <th>PEP_FL</th>\n",
       "      <th>CASH_SUM_IN</th>\n",
       "      <th>CASH_CNT_IN</th>\n",
       "      <th>CASH_SUM_OUT</th>\n",
       "      <th>CASH_CNT_OUT</th>\n",
       "      <th>WIRES_SUM_IN</th>\n",
       "      <th>WIRES_CNT_IN</th>\n",
       "      <th>WIRES_SUM_OUT</th>\n",
       "      <th>WIRES_CNT_OUT</th>\n",
       "      <th>COUNTRY_RISK_INCOME</th>\n",
       "      <th>COUNTRY_RISK_RESIDENCY</th>\n",
       "      <th>RISK</th>\n",
       "      <th>NAME</th>\n",
       "      <th>GENDER</th>\n",
       "      <th>CUSTOMER_ID</th>\n",
       "    </tr>\n",
       "  </thead>\n",
       "  <tbody>\n",
       "    <tr>\n",
       "      <th>0</th>\n",
       "      <td>1981-09-01</td>\n",
       "      <td>2007-07-05</td>\n",
       "      <td>89.0</td>\n",
       "      <td>1</td>\n",
       "      <td>1</td>\n",
       "      <td>0.0</td>\n",
       "      <td>2577.785</td>\n",
       "      <td>2.0</td>\n",
       "      <td>2851.663</td>\n",
       "      <td>7.0</td>\n",
       "      <td>70774.0</td>\n",
       "      <td>62.0</td>\n",
       "      <td>24244.0</td>\n",
       "      <td>35.0</td>\n",
       "      <td>Low</td>\n",
       "      <td>Low</td>\n",
       "      <td>low</td>\n",
       "      <td>Young, Marie Mildren Coleman</td>\n",
       "      <td>Female</td>\n",
       "      <td>935382.0</td>\n",
       "    </tr>\n",
       "    <tr>\n",
       "      <th>1</th>\n",
       "      <td>1994-02-21</td>\n",
       "      <td>2019-05-19</td>\n",
       "      <td>89.0</td>\n",
       "      <td>1</td>\n",
       "      <td>1</td>\n",
       "      <td>0.0</td>\n",
       "      <td>3035.502</td>\n",
       "      <td>2.0</td>\n",
       "      <td>4805.997</td>\n",
       "      <td>15.0</td>\n",
       "      <td>282929.0</td>\n",
       "      <td>76.0</td>\n",
       "      <td>196439.0</td>\n",
       "      <td>152.0</td>\n",
       "      <td>Low</td>\n",
       "      <td>Low</td>\n",
       "      <td>low</td>\n",
       "      <td>Mark Stupar Lecy</td>\n",
       "      <td>Male</td>\n",
       "      <td>2305.0</td>\n",
       "    </tr>\n",
       "    <tr>\n",
       "      <th>2</th>\n",
       "      <td>1962-11-16</td>\n",
       "      <td>2011-08-02</td>\n",
       "      <td>89.0</td>\n",
       "      <td>1</td>\n",
       "      <td>1</td>\n",
       "      <td>0.0</td>\n",
       "      <td>1617.571</td>\n",
       "      <td>1.0</td>\n",
       "      <td>3482.809</td>\n",
       "      <td>11.0</td>\n",
       "      <td>7632.0</td>\n",
       "      <td>6.0</td>\n",
       "      <td>33598.0</td>\n",
       "      <td>20.0</td>\n",
       "      <td>Low</td>\n",
       "      <td>Low</td>\n",
       "      <td>low</td>\n",
       "      <td>Dean Glasper Wendel Reeves</td>\n",
       "      <td>Male</td>\n",
       "      <td>472403.0</td>\n",
       "    </tr>\n",
       "    <tr>\n",
       "      <th>3</th>\n",
       "      <td>1998-06-20</td>\n",
       "      <td>2001-08-15</td>\n",
       "      <td>89.0</td>\n",
       "      <td>1</td>\n",
       "      <td>1</td>\n",
       "      <td>0.0</td>\n",
       "      <td>3587.042</td>\n",
       "      <td>5.0</td>\n",
       "      <td>1940.943</td>\n",
       "      <td>8.0</td>\n",
       "      <td>149253.0</td>\n",
       "      <td>71.0</td>\n",
       "      <td>105896.0</td>\n",
       "      <td>238.0</td>\n",
       "      <td>Low</td>\n",
       "      <td>Low</td>\n",
       "      <td>low</td>\n",
       "      <td>Hulsey, Linda Rauth</td>\n",
       "      <td>Female</td>\n",
       "      <td>227994.0</td>\n",
       "    </tr>\n",
       "    <tr>\n",
       "      <th>4</th>\n",
       "      <td>1942-01-24</td>\n",
       "      <td>2012-10-28</td>\n",
       "      <td>89.0</td>\n",
       "      <td>1</td>\n",
       "      <td>1</td>\n",
       "      <td>0.0</td>\n",
       "      <td>1725.524</td>\n",
       "      <td>2.0</td>\n",
       "      <td>13197.169</td>\n",
       "      <td>43.0</td>\n",
       "      <td>92318.0</td>\n",
       "      <td>96.0</td>\n",
       "      <td>187403.0</td>\n",
       "      <td>180.0</td>\n",
       "      <td>Low</td>\n",
       "      <td>Low</td>\n",
       "      <td>low</td>\n",
       "      <td>Carolyn Washington Roberts</td>\n",
       "      <td>Female</td>\n",
       "      <td>418265.0</td>\n",
       "    </tr>\n",
       "  </tbody>\n",
       "</table>\n",
       "</div>"
      ],
      "text/plain": [
       "     BIRTH_DT CUST_ADD_DT  OCPTN_NM  RES_CNTRY_CA  CNTRY_OF_INCOME_CA  PEP_FL  \\\n",
       "0  1981-09-01  2007-07-05      89.0             1                   1     0.0   \n",
       "1  1994-02-21  2019-05-19      89.0             1                   1     0.0   \n",
       "2  1962-11-16  2011-08-02      89.0             1                   1     0.0   \n",
       "3  1998-06-20  2001-08-15      89.0             1                   1     0.0   \n",
       "4  1942-01-24  2012-10-28      89.0             1                   1     0.0   \n",
       "\n",
       "   CASH_SUM_IN  CASH_CNT_IN  CASH_SUM_OUT  CASH_CNT_OUT  WIRES_SUM_IN  \\\n",
       "0     2577.785          2.0      2851.663           7.0       70774.0   \n",
       "1     3035.502          2.0      4805.997          15.0      282929.0   \n",
       "2     1617.571          1.0      3482.809          11.0        7632.0   \n",
       "3     3587.042          5.0      1940.943           8.0      149253.0   \n",
       "4     1725.524          2.0     13197.169          43.0       92318.0   \n",
       "\n",
       "   WIRES_CNT_IN  WIRES_SUM_OUT  WIRES_CNT_OUT COUNTRY_RISK_INCOME  \\\n",
       "0          62.0        24244.0           35.0                 Low   \n",
       "1          76.0       196439.0          152.0                 Low   \n",
       "2           6.0        33598.0           20.0                 Low   \n",
       "3          71.0       105896.0          238.0                 Low   \n",
       "4          96.0       187403.0          180.0                 Low   \n",
       "\n",
       "  COUNTRY_RISK_RESIDENCY RISK                          NAME  GENDER  \\\n",
       "0                    Low  low  Young, Marie Mildren Coleman  Female   \n",
       "1                    Low  low              Mark Stupar Lecy    Male   \n",
       "2                    Low  low    Dean Glasper Wendel Reeves    Male   \n",
       "3                    Low  low           Hulsey, Linda Rauth  Female   \n",
       "4                    Low  low    Carolyn Washington Roberts  Female   \n",
       "\n",
       "   CUSTOMER_ID  \n",
       "0     935382.0  \n",
       "1       2305.0  \n",
       "2     472403.0  \n",
       "3     227994.0  \n",
       "4     418265.0  "
      ]
     },
     "execution_count": 5,
     "metadata": {},
     "output_type": "execute_result"
    }
   ],
   "source": [
    "nodes_raw.head()"
   ]
  },
  {
   "cell_type": "code",
   "execution_count": 6,
   "id": "0e28f66d",
   "metadata": {
    "execution": {
     "iopub.execute_input": "2023-02-08T00:58:14.619173Z",
     "iopub.status.busy": "2023-02-08T00:58:14.618759Z",
     "iopub.status.idle": "2023-02-08T00:58:14.627859Z",
     "shell.execute_reply": "2023-02-08T00:58:14.626960Z"
    },
    "papermill": {
     "duration": 0.024228,
     "end_time": "2023-02-08T00:58:14.629617",
     "exception": false,
     "start_time": "2023-02-08T00:58:14.605389",
     "status": "completed"
    },
    "tags": []
   },
   "outputs": [
    {
     "data": {
      "text/html": [
       "<div>\n",
       "<style scoped>\n",
       "    .dataframe tbody tr th:only-of-type {\n",
       "        vertical-align: middle;\n",
       "    }\n",
       "\n",
       "    .dataframe tbody tr th {\n",
       "        vertical-align: top;\n",
       "    }\n",
       "\n",
       "    .dataframe thead th {\n",
       "        text-align: right;\n",
       "    }\n",
       "</style>\n",
       "<table border=\"1\" class=\"dataframe\">\n",
       "  <thead>\n",
       "    <tr style=\"text-align: right;\">\n",
       "      <th></th>\n",
       "      <th>code</th>\n",
       "      <th>occupation_risk</th>\n",
       "    </tr>\n",
       "  </thead>\n",
       "  <tbody>\n",
       "    <tr>\n",
       "      <th>0</th>\n",
       "      <td>0</td>\n",
       "      <td>Low</td>\n",
       "    </tr>\n",
       "    <tr>\n",
       "      <th>1</th>\n",
       "      <td>1</td>\n",
       "      <td>High</td>\n",
       "    </tr>\n",
       "    <tr>\n",
       "      <th>2</th>\n",
       "      <td>2</td>\n",
       "      <td>Low</td>\n",
       "    </tr>\n",
       "    <tr>\n",
       "      <th>3</th>\n",
       "      <td>3</td>\n",
       "      <td>Low</td>\n",
       "    </tr>\n",
       "    <tr>\n",
       "      <th>4</th>\n",
       "      <td>4</td>\n",
       "      <td>Low</td>\n",
       "    </tr>\n",
       "  </tbody>\n",
       "</table>\n",
       "</div>"
      ],
      "text/plain": [
       "   code occupation_risk\n",
       "0     0             Low\n",
       "1     1            High\n",
       "2     2             Low\n",
       "3     3             Low\n",
       "4     4             Low"
      ]
     },
     "execution_count": 6,
     "metadata": {},
     "output_type": "execute_result"
    }
   ],
   "source": [
    "occupation_risk_raw.head()"
   ]
  },
  {
   "cell_type": "code",
   "execution_count": 7,
   "id": "3d609346",
   "metadata": {
    "execution": {
     "iopub.execute_input": "2023-02-08T00:58:14.655522Z",
     "iopub.status.busy": "2023-02-08T00:58:14.655159Z",
     "iopub.status.idle": "2023-02-08T00:58:14.665259Z",
     "shell.execute_reply": "2023-02-08T00:58:14.664128Z"
    },
    "papermill": {
     "duration": 0.025365,
     "end_time": "2023-02-08T00:58:14.667010",
     "exception": false,
     "start_time": "2023-02-08T00:58:14.641645",
     "status": "completed"
    },
    "tags": []
   },
   "outputs": [
    {
     "data": {
      "text/html": [
       "<div>\n",
       "<style scoped>\n",
       "    .dataframe tbody tr th:only-of-type {\n",
       "        vertical-align: middle;\n",
       "    }\n",
       "\n",
       "    .dataframe tbody tr th {\n",
       "        vertical-align: top;\n",
       "    }\n",
       "\n",
       "    .dataframe thead th {\n",
       "        text-align: right;\n",
       "    }\n",
       "</style>\n",
       "<table border=\"1\" class=\"dataframe\">\n",
       "  <thead>\n",
       "    <tr style=\"text-align: right;\">\n",
       "      <th></th>\n",
       "      <th>source</th>\n",
       "      <th>target</th>\n",
       "      <th>emt</th>\n",
       "    </tr>\n",
       "  </thead>\n",
       "  <tbody>\n",
       "    <tr>\n",
       "      <th>0</th>\n",
       "      <td>983859.0</td>\n",
       "      <td>544485.0</td>\n",
       "      <td>503.807815</td>\n",
       "    </tr>\n",
       "    <tr>\n",
       "      <th>1</th>\n",
       "      <td>605618.0</td>\n",
       "      <td>362627.0</td>\n",
       "      <td>5157.568486</td>\n",
       "    </tr>\n",
       "    <tr>\n",
       "      <th>2</th>\n",
       "      <td>323189.0</td>\n",
       "      <td>118238.0</td>\n",
       "      <td>498.628481</td>\n",
       "    </tr>\n",
       "    <tr>\n",
       "      <th>3</th>\n",
       "      <td>919153.0</td>\n",
       "      <td>983859.0</td>\n",
       "      <td>401.962668</td>\n",
       "    </tr>\n",
       "    <tr>\n",
       "      <th>4</th>\n",
       "      <td>995748.0</td>\n",
       "      <td>983859.0</td>\n",
       "      <td>5095.458776</td>\n",
       "    </tr>\n",
       "  </tbody>\n",
       "</table>\n",
       "</div>"
      ],
      "text/plain": [
       "     source    target          emt\n",
       "0  983859.0  544485.0   503.807815\n",
       "1  605618.0  362627.0  5157.568486\n",
       "2  323189.0  118238.0   498.628481\n",
       "3  919153.0  983859.0   401.962668\n",
       "4  995748.0  983859.0  5095.458776"
      ]
     },
     "execution_count": 7,
     "metadata": {},
     "output_type": "execute_result"
    }
   ],
   "source": [
    "edges_raw.head()"
   ]
  },
  {
   "cell_type": "code",
   "execution_count": 8,
   "id": "8a4772bd",
   "metadata": {
    "execution": {
     "iopub.execute_input": "2023-02-08T00:58:14.693672Z",
     "iopub.status.busy": "2023-02-08T00:58:14.693314Z",
     "iopub.status.idle": "2023-02-08T00:58:15.106803Z",
     "shell.execute_reply": "2023-02-08T00:58:15.105552Z"
    },
    "papermill": {
     "duration": 0.429686,
     "end_time": "2023-02-08T00:58:15.109076",
     "exception": false,
     "start_time": "2023-02-08T00:58:14.679390",
     "status": "completed"
    },
    "tags": []
   },
   "outputs": [],
   "source": [
    "nodes_raw = nodes_raw.dropna()"
   ]
  },
  {
   "cell_type": "markdown",
   "id": "2b423402",
   "metadata": {
    "papermill": {
     "duration": 0.011905,
     "end_time": "2023-02-08T00:58:15.133351",
     "exception": false,
     "start_time": "2023-02-08T00:58:15.121446",
     "status": "completed"
    },
    "tags": []
   },
   "source": [
    "*Merging Occupation Risk with Nodes*"
   ]
  },
  {
   "cell_type": "code",
   "execution_count": 9,
   "id": "834e13b0",
   "metadata": {
    "execution": {
     "iopub.execute_input": "2023-02-08T00:58:15.159023Z",
     "iopub.status.busy": "2023-02-08T00:58:15.158667Z",
     "iopub.status.idle": "2023-02-08T00:58:15.164091Z",
     "shell.execute_reply": "2023-02-08T00:58:15.163108Z"
    },
    "papermill": {
     "duration": 0.021128,
     "end_time": "2023-02-08T00:58:15.166433",
     "exception": false,
     "start_time": "2023-02-08T00:58:15.145305",
     "status": "completed"
    },
    "tags": []
   },
   "outputs": [],
   "source": [
    "def replace_with_dict_values(df1, df2):\n",
    "    code_occupation_risk = dict(zip(df2['code'], df2['occupation_risk']))\n",
    "    df1['OCPTN_NM'] = df1['OCPTN_NM'].astype(int).map(code_occupation_risk)\n",
    "    return df1"
   ]
  },
  {
   "cell_type": "code",
   "execution_count": 10,
   "id": "1b372a19",
   "metadata": {
    "execution": {
     "iopub.execute_input": "2023-02-08T00:58:15.193152Z",
     "iopub.status.busy": "2023-02-08T00:58:15.192531Z",
     "iopub.status.idle": "2023-02-08T00:58:15.319399Z",
     "shell.execute_reply": "2023-02-08T00:58:15.318522Z"
    },
    "papermill": {
     "duration": 0.142374,
     "end_time": "2023-02-08T00:58:15.321201",
     "exception": false,
     "start_time": "2023-02-08T00:58:15.178827",
     "status": "completed"
    },
    "tags": []
   },
   "outputs": [
    {
     "data": {
      "text/html": [
       "<div>\n",
       "<style scoped>\n",
       "    .dataframe tbody tr th:only-of-type {\n",
       "        vertical-align: middle;\n",
       "    }\n",
       "\n",
       "    .dataframe tbody tr th {\n",
       "        vertical-align: top;\n",
       "    }\n",
       "\n",
       "    .dataframe thead th {\n",
       "        text-align: right;\n",
       "    }\n",
       "</style>\n",
       "<table border=\"1\" class=\"dataframe\">\n",
       "  <thead>\n",
       "    <tr style=\"text-align: right;\">\n",
       "      <th></th>\n",
       "      <th>BIRTH_DT</th>\n",
       "      <th>CUST_ADD_DT</th>\n",
       "      <th>OCPTN_NM</th>\n",
       "      <th>RES_CNTRY_CA</th>\n",
       "      <th>CNTRY_OF_INCOME_CA</th>\n",
       "      <th>PEP_FL</th>\n",
       "      <th>CASH_SUM_IN</th>\n",
       "      <th>CASH_CNT_IN</th>\n",
       "      <th>CASH_SUM_OUT</th>\n",
       "      <th>CASH_CNT_OUT</th>\n",
       "      <th>WIRES_SUM_IN</th>\n",
       "      <th>WIRES_CNT_IN</th>\n",
       "      <th>WIRES_SUM_OUT</th>\n",
       "      <th>WIRES_CNT_OUT</th>\n",
       "      <th>COUNTRY_RISK_INCOME</th>\n",
       "      <th>COUNTRY_RISK_RESIDENCY</th>\n",
       "      <th>RISK</th>\n",
       "      <th>NAME</th>\n",
       "      <th>GENDER</th>\n",
       "      <th>CUSTOMER_ID</th>\n",
       "    </tr>\n",
       "  </thead>\n",
       "  <tbody>\n",
       "    <tr>\n",
       "      <th>0</th>\n",
       "      <td>1981-09-01</td>\n",
       "      <td>2007-07-05</td>\n",
       "      <td>High</td>\n",
       "      <td>1</td>\n",
       "      <td>1</td>\n",
       "      <td>0.0</td>\n",
       "      <td>2577.785</td>\n",
       "      <td>2.0</td>\n",
       "      <td>2851.663</td>\n",
       "      <td>7.0</td>\n",
       "      <td>70774.0</td>\n",
       "      <td>62.0</td>\n",
       "      <td>24244.0</td>\n",
       "      <td>35.0</td>\n",
       "      <td>Low</td>\n",
       "      <td>Low</td>\n",
       "      <td>low</td>\n",
       "      <td>Young, Marie Mildren Coleman</td>\n",
       "      <td>Female</td>\n",
       "      <td>935382.0</td>\n",
       "    </tr>\n",
       "    <tr>\n",
       "      <th>1</th>\n",
       "      <td>1994-02-21</td>\n",
       "      <td>2019-05-19</td>\n",
       "      <td>High</td>\n",
       "      <td>1</td>\n",
       "      <td>1</td>\n",
       "      <td>0.0</td>\n",
       "      <td>3035.502</td>\n",
       "      <td>2.0</td>\n",
       "      <td>4805.997</td>\n",
       "      <td>15.0</td>\n",
       "      <td>282929.0</td>\n",
       "      <td>76.0</td>\n",
       "      <td>196439.0</td>\n",
       "      <td>152.0</td>\n",
       "      <td>Low</td>\n",
       "      <td>Low</td>\n",
       "      <td>low</td>\n",
       "      <td>Mark Stupar Lecy</td>\n",
       "      <td>Male</td>\n",
       "      <td>2305.0</td>\n",
       "    </tr>\n",
       "    <tr>\n",
       "      <th>2</th>\n",
       "      <td>1962-11-16</td>\n",
       "      <td>2011-08-02</td>\n",
       "      <td>High</td>\n",
       "      <td>1</td>\n",
       "      <td>1</td>\n",
       "      <td>0.0</td>\n",
       "      <td>1617.571</td>\n",
       "      <td>1.0</td>\n",
       "      <td>3482.809</td>\n",
       "      <td>11.0</td>\n",
       "      <td>7632.0</td>\n",
       "      <td>6.0</td>\n",
       "      <td>33598.0</td>\n",
       "      <td>20.0</td>\n",
       "      <td>Low</td>\n",
       "      <td>Low</td>\n",
       "      <td>low</td>\n",
       "      <td>Dean Glasper Wendel Reeves</td>\n",
       "      <td>Male</td>\n",
       "      <td>472403.0</td>\n",
       "    </tr>\n",
       "    <tr>\n",
       "      <th>3</th>\n",
       "      <td>1998-06-20</td>\n",
       "      <td>2001-08-15</td>\n",
       "      <td>High</td>\n",
       "      <td>1</td>\n",
       "      <td>1</td>\n",
       "      <td>0.0</td>\n",
       "      <td>3587.042</td>\n",
       "      <td>5.0</td>\n",
       "      <td>1940.943</td>\n",
       "      <td>8.0</td>\n",
       "      <td>149253.0</td>\n",
       "      <td>71.0</td>\n",
       "      <td>105896.0</td>\n",
       "      <td>238.0</td>\n",
       "      <td>Low</td>\n",
       "      <td>Low</td>\n",
       "      <td>low</td>\n",
       "      <td>Hulsey, Linda Rauth</td>\n",
       "      <td>Female</td>\n",
       "      <td>227994.0</td>\n",
       "    </tr>\n",
       "    <tr>\n",
       "      <th>4</th>\n",
       "      <td>1942-01-24</td>\n",
       "      <td>2012-10-28</td>\n",
       "      <td>High</td>\n",
       "      <td>1</td>\n",
       "      <td>1</td>\n",
       "      <td>0.0</td>\n",
       "      <td>1725.524</td>\n",
       "      <td>2.0</td>\n",
       "      <td>13197.169</td>\n",
       "      <td>43.0</td>\n",
       "      <td>92318.0</td>\n",
       "      <td>96.0</td>\n",
       "      <td>187403.0</td>\n",
       "      <td>180.0</td>\n",
       "      <td>Low</td>\n",
       "      <td>Low</td>\n",
       "      <td>low</td>\n",
       "      <td>Carolyn Washington Roberts</td>\n",
       "      <td>Female</td>\n",
       "      <td>418265.0</td>\n",
       "    </tr>\n",
       "  </tbody>\n",
       "</table>\n",
       "</div>"
      ],
      "text/plain": [
       "     BIRTH_DT CUST_ADD_DT OCPTN_NM  RES_CNTRY_CA  CNTRY_OF_INCOME_CA  PEP_FL  \\\n",
       "0  1981-09-01  2007-07-05     High             1                   1     0.0   \n",
       "1  1994-02-21  2019-05-19     High             1                   1     0.0   \n",
       "2  1962-11-16  2011-08-02     High             1                   1     0.0   \n",
       "3  1998-06-20  2001-08-15     High             1                   1     0.0   \n",
       "4  1942-01-24  2012-10-28     High             1                   1     0.0   \n",
       "\n",
       "   CASH_SUM_IN  CASH_CNT_IN  CASH_SUM_OUT  CASH_CNT_OUT  WIRES_SUM_IN  \\\n",
       "0     2577.785          2.0      2851.663           7.0       70774.0   \n",
       "1     3035.502          2.0      4805.997          15.0      282929.0   \n",
       "2     1617.571          1.0      3482.809          11.0        7632.0   \n",
       "3     3587.042          5.0      1940.943           8.0      149253.0   \n",
       "4     1725.524          2.0     13197.169          43.0       92318.0   \n",
       "\n",
       "   WIRES_CNT_IN  WIRES_SUM_OUT  WIRES_CNT_OUT COUNTRY_RISK_INCOME  \\\n",
       "0          62.0        24244.0           35.0                 Low   \n",
       "1          76.0       196439.0          152.0                 Low   \n",
       "2           6.0        33598.0           20.0                 Low   \n",
       "3          71.0       105896.0          238.0                 Low   \n",
       "4          96.0       187403.0          180.0                 Low   \n",
       "\n",
       "  COUNTRY_RISK_RESIDENCY RISK                          NAME  GENDER  \\\n",
       "0                    Low  low  Young, Marie Mildren Coleman  Female   \n",
       "1                    Low  low              Mark Stupar Lecy    Male   \n",
       "2                    Low  low    Dean Glasper Wendel Reeves    Male   \n",
       "3                    Low  low           Hulsey, Linda Rauth  Female   \n",
       "4                    Low  low    Carolyn Washington Roberts  Female   \n",
       "\n",
       "   CUSTOMER_ID  \n",
       "0     935382.0  \n",
       "1       2305.0  \n",
       "2     472403.0  \n",
       "3     227994.0  \n",
       "4     418265.0  "
      ]
     },
     "execution_count": 10,
     "metadata": {},
     "output_type": "execute_result"
    }
   ],
   "source": [
    "nodes_occupation = nodes_raw.copy(deep=True)\n",
    "replace_with_dict_values(nodes_occupation,occupation_risk_raw)\n",
    "nodes_occupation.head()"
   ]
  },
  {
   "cell_type": "markdown",
   "id": "77e2f2d9",
   "metadata": {
    "papermill": {
     "duration": 0.011876,
     "end_time": "2023-02-08T00:58:15.345453",
     "exception": false,
     "start_time": "2023-02-08T00:58:15.333577",
     "status": "completed"
    },
    "tags": []
   },
   "source": [
    "*Merging Email Transfers (edges) with node data*"
   ]
  },
  {
   "cell_type": "code",
   "execution_count": 11,
   "id": "9c8740a4",
   "metadata": {
    "execution": {
     "iopub.execute_input": "2023-02-08T00:58:15.371361Z",
     "iopub.status.busy": "2023-02-08T00:58:15.370943Z",
     "iopub.status.idle": "2023-02-08T00:58:15.378014Z",
     "shell.execute_reply": "2023-02-08T00:58:15.377113Z"
    },
    "papermill": {
     "duration": 0.022688,
     "end_time": "2023-02-08T00:58:15.380380",
     "exception": false,
     "start_time": "2023-02-08T00:58:15.357692",
     "status": "completed"
    },
    "tags": []
   },
   "outputs": [],
   "source": [
    "def email_stats(df1, dfz):\n",
    "    df2 = dfz.dropna()\n",
    "    source_counts = df2.groupby('source')['emt'].count().to_dict()\n",
    "    source_sums = df2.groupby('source')['emt'].sum().to_dict()\n",
    "    target_counts = df2.groupby('target')['emt'].count().to_dict()\n",
    "    target_sums = df2.groupby('target')['emt'].sum().to_dict()\n",
    "    \n",
    "    df1['EMAIL_CNT_OUT'] = df1['CUSTOMER_ID'].map(source_counts).fillna(0)\n",
    "    df1['EMAIL_SUM_OUT'] = df1['CUSTOMER_ID'].map(source_sums).fillna(0)\n",
    "    df1['EMAIL_CNT_IN'] = df1['CUSTOMER_ID'].map(target_counts).fillna(0)\n",
    "    df1['EMAIL_SUM_IN'] = df1['CUSTOMER_ID'].map(target_sums).fillna(0)\n",
    "    \n",
    "    return df1"
   ]
  },
  {
   "cell_type": "markdown",
   "id": "50135996",
   "metadata": {
    "papermill": {
     "duration": 0.01209,
     "end_time": "2023-02-08T00:58:15.405389",
     "exception": false,
     "start_time": "2023-02-08T00:58:15.393299",
     "status": "completed"
    },
    "tags": []
   },
   "source": [
    "*Unit Testing the function*"
   ]
  },
  {
   "cell_type": "code",
   "execution_count": 12,
   "id": "d2a393c4",
   "metadata": {
    "execution": {
     "iopub.execute_input": "2023-02-08T00:58:15.431737Z",
     "iopub.status.busy": "2023-02-08T00:58:15.431151Z",
     "iopub.status.idle": "2023-02-08T00:58:15.455158Z",
     "shell.execute_reply": "2023-02-08T00:58:15.454233Z"
    },
    "papermill": {
     "duration": 0.039464,
     "end_time": "2023-02-08T00:58:15.457011",
     "exception": false,
     "start_time": "2023-02-08T00:58:15.417547",
     "status": "completed"
    },
    "tags": []
   },
   "outputs": [
    {
     "data": {
      "text/html": [
       "<div>\n",
       "<style scoped>\n",
       "    .dataframe tbody tr th:only-of-type {\n",
       "        vertical-align: middle;\n",
       "    }\n",
       "\n",
       "    .dataframe tbody tr th {\n",
       "        vertical-align: top;\n",
       "    }\n",
       "\n",
       "    .dataframe thead th {\n",
       "        text-align: right;\n",
       "    }\n",
       "</style>\n",
       "<table border=\"1\" class=\"dataframe\">\n",
       "  <thead>\n",
       "    <tr style=\"text-align: right;\">\n",
       "      <th></th>\n",
       "      <th>CUSTOMER_ID</th>\n",
       "      <th>EMAIL_CNT_OUT</th>\n",
       "      <th>EMAIL_SUM_OUT</th>\n",
       "      <th>EMAIL_CNT_IN</th>\n",
       "      <th>EMAIL_SUM_IN</th>\n",
       "    </tr>\n",
       "  </thead>\n",
       "  <tbody>\n",
       "    <tr>\n",
       "      <th>0</th>\n",
       "      <td>1</td>\n",
       "      <td>2.0</td>\n",
       "      <td>70.9</td>\n",
       "      <td>1.0</td>\n",
       "      <td>50.6</td>\n",
       "    </tr>\n",
       "    <tr>\n",
       "      <th>1</th>\n",
       "      <td>2</td>\n",
       "      <td>2.0</td>\n",
       "      <td>91.1</td>\n",
       "      <td>1.0</td>\n",
       "      <td>10.2</td>\n",
       "    </tr>\n",
       "    <tr>\n",
       "      <th>2</th>\n",
       "      <td>3</td>\n",
       "      <td>1.0</td>\n",
       "      <td>30.4</td>\n",
       "      <td>2.0</td>\n",
       "      <td>101.2</td>\n",
       "    </tr>\n",
       "    <tr>\n",
       "      <th>3</th>\n",
       "      <td>4</td>\n",
       "      <td>2.0</td>\n",
       "      <td>121.4</td>\n",
       "      <td>2.0</td>\n",
       "      <td>91.1</td>\n",
       "    </tr>\n",
       "    <tr>\n",
       "      <th>4</th>\n",
       "      <td>5</td>\n",
       "      <td>1.0</td>\n",
       "      <td>50.6</td>\n",
       "      <td>2.0</td>\n",
       "      <td>111.3</td>\n",
       "    </tr>\n",
       "    <tr>\n",
       "      <th>5</th>\n",
       "      <td>6</td>\n",
       "      <td>0.0</td>\n",
       "      <td>0.0</td>\n",
       "      <td>0.0</td>\n",
       "      <td>0.0</td>\n",
       "    </tr>\n",
       "  </tbody>\n",
       "</table>\n",
       "</div>"
      ],
      "text/plain": [
       "   CUSTOMER_ID  EMAIL_CNT_OUT  EMAIL_SUM_OUT  EMAIL_CNT_IN  EMAIL_SUM_IN\n",
       "0            1            2.0           70.9           1.0          50.6\n",
       "1            2            2.0           91.1           1.0          10.2\n",
       "2            3            1.0           30.4           2.0         101.2\n",
       "3            4            2.0          121.4           2.0          91.1\n",
       "4            5            1.0           50.6           2.0         111.3\n",
       "5            6            0.0            0.0           0.0           0.0"
      ]
     },
     "execution_count": 12,
     "metadata": {},
     "output_type": "execute_result"
    }
   ],
   "source": [
    "dft = pd.DataFrame({\n",
    "   'source': [1, 2, 3, 4, 5, 1, 2, 4],\n",
    "   'target': [2, 3, 4, 5, 1, 4, 5, 3],\n",
    "   'emt': [10.2, 20.3, 30.4, 40.5, 50.6, 60.7, 70.8, 80.9]\n",
    "})\n",
    "\n",
    "dfz = pd.DataFrame({\n",
    "   'CUSTOMER_ID': [1, 2, 3, 4, 5,6]\n",
    "})\n",
    "email_stats(dfz,dft)"
   ]
  },
  {
   "cell_type": "code",
   "execution_count": 13,
   "id": "948f6871",
   "metadata": {
    "execution": {
     "iopub.execute_input": "2023-02-08T00:58:15.483639Z",
     "iopub.status.busy": "2023-02-08T00:58:15.483033Z",
     "iopub.status.idle": "2023-02-08T00:58:17.095452Z",
     "shell.execute_reply": "2023-02-08T00:58:17.094553Z"
    },
    "papermill": {
     "duration": 1.627837,
     "end_time": "2023-02-08T00:58:17.097338",
     "exception": false,
     "start_time": "2023-02-08T00:58:15.469501",
     "status": "completed"
    },
    "tags": []
   },
   "outputs": [
    {
     "data": {
      "text/html": [
       "<div>\n",
       "<style scoped>\n",
       "    .dataframe tbody tr th:only-of-type {\n",
       "        vertical-align: middle;\n",
       "    }\n",
       "\n",
       "    .dataframe tbody tr th {\n",
       "        vertical-align: top;\n",
       "    }\n",
       "\n",
       "    .dataframe thead th {\n",
       "        text-align: right;\n",
       "    }\n",
       "</style>\n",
       "<table border=\"1\" class=\"dataframe\">\n",
       "  <thead>\n",
       "    <tr style=\"text-align: right;\">\n",
       "      <th></th>\n",
       "      <th>BIRTH_DT</th>\n",
       "      <th>CUST_ADD_DT</th>\n",
       "      <th>OCPTN_NM</th>\n",
       "      <th>RES_CNTRY_CA</th>\n",
       "      <th>CNTRY_OF_INCOME_CA</th>\n",
       "      <th>PEP_FL</th>\n",
       "      <th>CASH_SUM_IN</th>\n",
       "      <th>CASH_CNT_IN</th>\n",
       "      <th>CASH_SUM_OUT</th>\n",
       "      <th>CASH_CNT_OUT</th>\n",
       "      <th>...</th>\n",
       "      <th>COUNTRY_RISK_INCOME</th>\n",
       "      <th>COUNTRY_RISK_RESIDENCY</th>\n",
       "      <th>RISK</th>\n",
       "      <th>NAME</th>\n",
       "      <th>GENDER</th>\n",
       "      <th>CUSTOMER_ID</th>\n",
       "      <th>EMAIL_CNT_OUT</th>\n",
       "      <th>EMAIL_SUM_OUT</th>\n",
       "      <th>EMAIL_CNT_IN</th>\n",
       "      <th>EMAIL_SUM_IN</th>\n",
       "    </tr>\n",
       "  </thead>\n",
       "  <tbody>\n",
       "    <tr>\n",
       "      <th>0</th>\n",
       "      <td>1981-09-01</td>\n",
       "      <td>2007-07-05</td>\n",
       "      <td>High</td>\n",
       "      <td>1</td>\n",
       "      <td>1</td>\n",
       "      <td>0.0</td>\n",
       "      <td>2577.785</td>\n",
       "      <td>2.0</td>\n",
       "      <td>2851.663</td>\n",
       "      <td>7.0</td>\n",
       "      <td>...</td>\n",
       "      <td>Low</td>\n",
       "      <td>Low</td>\n",
       "      <td>low</td>\n",
       "      <td>Young, Marie Mildren Coleman</td>\n",
       "      <td>Female</td>\n",
       "      <td>935382.0</td>\n",
       "      <td>0.0</td>\n",
       "      <td>0.0</td>\n",
       "      <td>0.0</td>\n",
       "      <td>0.0</td>\n",
       "    </tr>\n",
       "    <tr>\n",
       "      <th>1</th>\n",
       "      <td>1994-02-21</td>\n",
       "      <td>2019-05-19</td>\n",
       "      <td>High</td>\n",
       "      <td>1</td>\n",
       "      <td>1</td>\n",
       "      <td>0.0</td>\n",
       "      <td>3035.502</td>\n",
       "      <td>2.0</td>\n",
       "      <td>4805.997</td>\n",
       "      <td>15.0</td>\n",
       "      <td>...</td>\n",
       "      <td>Low</td>\n",
       "      <td>Low</td>\n",
       "      <td>low</td>\n",
       "      <td>Mark Stupar Lecy</td>\n",
       "      <td>Male</td>\n",
       "      <td>2305.0</td>\n",
       "      <td>0.0</td>\n",
       "      <td>0.0</td>\n",
       "      <td>0.0</td>\n",
       "      <td>0.0</td>\n",
       "    </tr>\n",
       "    <tr>\n",
       "      <th>2</th>\n",
       "      <td>1962-11-16</td>\n",
       "      <td>2011-08-02</td>\n",
       "      <td>High</td>\n",
       "      <td>1</td>\n",
       "      <td>1</td>\n",
       "      <td>0.0</td>\n",
       "      <td>1617.571</td>\n",
       "      <td>1.0</td>\n",
       "      <td>3482.809</td>\n",
       "      <td>11.0</td>\n",
       "      <td>...</td>\n",
       "      <td>Low</td>\n",
       "      <td>Low</td>\n",
       "      <td>low</td>\n",
       "      <td>Dean Glasper Wendel Reeves</td>\n",
       "      <td>Male</td>\n",
       "      <td>472403.0</td>\n",
       "      <td>0.0</td>\n",
       "      <td>0.0</td>\n",
       "      <td>0.0</td>\n",
       "      <td>0.0</td>\n",
       "    </tr>\n",
       "    <tr>\n",
       "      <th>3</th>\n",
       "      <td>1998-06-20</td>\n",
       "      <td>2001-08-15</td>\n",
       "      <td>High</td>\n",
       "      <td>1</td>\n",
       "      <td>1</td>\n",
       "      <td>0.0</td>\n",
       "      <td>3587.042</td>\n",
       "      <td>5.0</td>\n",
       "      <td>1940.943</td>\n",
       "      <td>8.0</td>\n",
       "      <td>...</td>\n",
       "      <td>Low</td>\n",
       "      <td>Low</td>\n",
       "      <td>low</td>\n",
       "      <td>Hulsey, Linda Rauth</td>\n",
       "      <td>Female</td>\n",
       "      <td>227994.0</td>\n",
       "      <td>0.0</td>\n",
       "      <td>0.0</td>\n",
       "      <td>0.0</td>\n",
       "      <td>0.0</td>\n",
       "    </tr>\n",
       "    <tr>\n",
       "      <th>4</th>\n",
       "      <td>1942-01-24</td>\n",
       "      <td>2012-10-28</td>\n",
       "      <td>High</td>\n",
       "      <td>1</td>\n",
       "      <td>1</td>\n",
       "      <td>0.0</td>\n",
       "      <td>1725.524</td>\n",
       "      <td>2.0</td>\n",
       "      <td>13197.169</td>\n",
       "      <td>43.0</td>\n",
       "      <td>...</td>\n",
       "      <td>Low</td>\n",
       "      <td>Low</td>\n",
       "      <td>low</td>\n",
       "      <td>Carolyn Washington Roberts</td>\n",
       "      <td>Female</td>\n",
       "      <td>418265.0</td>\n",
       "      <td>0.0</td>\n",
       "      <td>0.0</td>\n",
       "      <td>0.0</td>\n",
       "      <td>0.0</td>\n",
       "    </tr>\n",
       "  </tbody>\n",
       "</table>\n",
       "<p>5 rows × 24 columns</p>\n",
       "</div>"
      ],
      "text/plain": [
       "     BIRTH_DT CUST_ADD_DT OCPTN_NM  RES_CNTRY_CA  CNTRY_OF_INCOME_CA  PEP_FL  \\\n",
       "0  1981-09-01  2007-07-05     High             1                   1     0.0   \n",
       "1  1994-02-21  2019-05-19     High             1                   1     0.0   \n",
       "2  1962-11-16  2011-08-02     High             1                   1     0.0   \n",
       "3  1998-06-20  2001-08-15     High             1                   1     0.0   \n",
       "4  1942-01-24  2012-10-28     High             1                   1     0.0   \n",
       "\n",
       "   CASH_SUM_IN  CASH_CNT_IN  CASH_SUM_OUT  CASH_CNT_OUT  ...  \\\n",
       "0     2577.785          2.0      2851.663           7.0  ...   \n",
       "1     3035.502          2.0      4805.997          15.0  ...   \n",
       "2     1617.571          1.0      3482.809          11.0  ...   \n",
       "3     3587.042          5.0      1940.943           8.0  ...   \n",
       "4     1725.524          2.0     13197.169          43.0  ...   \n",
       "\n",
       "   COUNTRY_RISK_INCOME  COUNTRY_RISK_RESIDENCY  RISK  \\\n",
       "0                  Low                     Low   low   \n",
       "1                  Low                     Low   low   \n",
       "2                  Low                     Low   low   \n",
       "3                  Low                     Low   low   \n",
       "4                  Low                     Low   low   \n",
       "\n",
       "                           NAME  GENDER CUSTOMER_ID EMAIL_CNT_OUT  \\\n",
       "0  Young, Marie Mildren Coleman  Female    935382.0           0.0   \n",
       "1              Mark Stupar Lecy    Male      2305.0           0.0   \n",
       "2    Dean Glasper Wendel Reeves    Male    472403.0           0.0   \n",
       "3           Hulsey, Linda Rauth  Female    227994.0           0.0   \n",
       "4    Carolyn Washington Roberts  Female    418265.0           0.0   \n",
       "\n",
       "  EMAIL_SUM_OUT EMAIL_CNT_IN  EMAIL_SUM_IN  \n",
       "0           0.0          0.0           0.0  \n",
       "1           0.0          0.0           0.0  \n",
       "2           0.0          0.0           0.0  \n",
       "3           0.0          0.0           0.0  \n",
       "4           0.0          0.0           0.0  \n",
       "\n",
       "[5 rows x 24 columns]"
      ]
     },
     "execution_count": 13,
     "metadata": {},
     "output_type": "execute_result"
    }
   ],
   "source": [
    "nodes_occupation_emailtr= email_stats(nodes_occupation, edges_raw)\n",
    "nodes_occupation_emailtr.head()"
   ]
  },
  {
   "cell_type": "markdown",
   "id": "2668e63f",
   "metadata": {
    "papermill": {
     "duration": 0.012439,
     "end_time": "2023-02-08T00:58:17.125200",
     "exception": false,
     "start_time": "2023-02-08T00:58:17.112761",
     "status": "completed"
    },
    "tags": []
   },
   "source": [
    "*Adding Relative Age and Customer Addition date in dataframe*"
   ]
  },
  {
   "cell_type": "code",
   "execution_count": 14,
   "id": "3d5a6e73",
   "metadata": {
    "execution": {
     "iopub.execute_input": "2023-02-08T00:58:17.153498Z",
     "iopub.status.busy": "2023-02-08T00:58:17.153170Z",
     "iopub.status.idle": "2023-02-08T00:58:17.160332Z",
     "shell.execute_reply": "2023-02-08T00:58:17.159210Z"
    },
    "papermill": {
     "duration": 0.024508,
     "end_time": "2023-02-08T00:58:17.162506",
     "exception": false,
     "start_time": "2023-02-08T00:58:17.137998",
     "status": "completed"
    },
    "tags": []
   },
   "outputs": [],
   "source": [
    "def calculate_relative_dates(df):\n",
    "    # convert the columns to datetime format\n",
    "    df['BIRTH_DT'] = pd.to_datetime(df['BIRTH_DT'])\n",
    "    df['CUST_ADD_DT'] = pd.to_datetime(df['CUST_ADD_DT'])\n",
    "    \n",
    "    # find the max value in the \"BIRTH_DT\" column\n",
    "    max_birth_dt = df['BIRTH_DT'].max()\n",
    "    \n",
    "    # calculate the relative age\n",
    "    df['REL_AGE'] = (max_birth_dt - df['BIRTH_DT']).apply(lambda x: x.total_seconds() / (365 * 24 * 60 * 60))\n",
    "    \n",
    "    # find the max value in the \"CUST_ADD_DT\" column\n",
    "    max_cust_add_dt = df['CUST_ADD_DT'].max()\n",
    "    \n",
    "    # calculate the relative add date\n",
    "    df['REL_ADD_DT'] = (max_cust_add_dt - df['CUST_ADD_DT']).apply(lambda x: x.total_seconds() / (365 * 24 * 60 * 60))\n",
    "    \n",
    "    return df"
   ]
  },
  {
   "cell_type": "markdown",
   "id": "1582ecd8",
   "metadata": {
    "papermill": {
     "duration": 0.012494,
     "end_time": "2023-02-08T00:58:17.188888",
     "exception": false,
     "start_time": "2023-02-08T00:58:17.176394",
     "status": "completed"
    },
    "tags": []
   },
   "source": [
    "*Unit Testing*"
   ]
  },
  {
   "cell_type": "code",
   "execution_count": 15,
   "id": "7a055003",
   "metadata": {
    "execution": {
     "iopub.execute_input": "2023-02-08T00:58:17.216250Z",
     "iopub.status.busy": "2023-02-08T00:58:17.215834Z",
     "iopub.status.idle": "2023-02-08T00:58:17.231352Z",
     "shell.execute_reply": "2023-02-08T00:58:17.230298Z"
    },
    "papermill": {
     "duration": 0.032185,
     "end_time": "2023-02-08T00:58:17.233795",
     "exception": false,
     "start_time": "2023-02-08T00:58:17.201610",
     "status": "completed"
    },
    "tags": []
   },
   "outputs": [
    {
     "name": "stdout",
     "output_type": "stream",
     "text": [
      "    BIRTH_DT CUST_ADD_DT   REL_AGE  REL_ADD_DT\n",
      "0 1962-11-16  1990-01-01  2.189041    3.397260\n",
      "1 1965-01-23  1992-02-15  0.000000    1.273973\n",
      "2 1959-05-17  1989-04-20  5.693151    4.098630\n",
      "3 1958-07-12  1993-05-25  6.539726    0.000000\n",
      "4 1961-03-02  1991-06-30  3.898630    1.904110\n"
     ]
    }
   ],
   "source": [
    "df = pd.DataFrame({'BIRTH_DT': ['1962-11-16', '1965-01-23', '1959-05-17', '1958-07-12', '1961-03-02'],\n",
    "                   'CUST_ADD_DT': ['1990-01-01', '1992-02-15', '1989-04-20', '1993-05-25', '1991-06-30']})\n",
    "\n",
    "# call the function\n",
    "df = calculate_relative_dates(df)\n",
    "\n",
    "# view the updated dataframe\n",
    "print(df)"
   ]
  },
  {
   "cell_type": "code",
   "execution_count": 16,
   "id": "51a99ddb",
   "metadata": {
    "execution": {
     "iopub.execute_input": "2023-02-08T00:58:17.262033Z",
     "iopub.status.busy": "2023-02-08T00:58:17.261715Z",
     "iopub.status.idle": "2023-02-08T00:58:28.833172Z",
     "shell.execute_reply": "2023-02-08T00:58:28.832529Z"
    },
    "papermill": {
     "duration": 11.587227,
     "end_time": "2023-02-08T00:58:28.834908",
     "exception": false,
     "start_time": "2023-02-08T00:58:17.247681",
     "status": "completed"
    },
    "tags": []
   },
   "outputs": [
    {
     "data": {
      "text/html": [
       "<div>\n",
       "<style scoped>\n",
       "    .dataframe tbody tr th:only-of-type {\n",
       "        vertical-align: middle;\n",
       "    }\n",
       "\n",
       "    .dataframe tbody tr th {\n",
       "        vertical-align: top;\n",
       "    }\n",
       "\n",
       "    .dataframe thead th {\n",
       "        text-align: right;\n",
       "    }\n",
       "</style>\n",
       "<table border=\"1\" class=\"dataframe\">\n",
       "  <thead>\n",
       "    <tr style=\"text-align: right;\">\n",
       "      <th></th>\n",
       "      <th>BIRTH_DT</th>\n",
       "      <th>CUST_ADD_DT</th>\n",
       "      <th>OCPTN_NM</th>\n",
       "      <th>RES_CNTRY_CA</th>\n",
       "      <th>CNTRY_OF_INCOME_CA</th>\n",
       "      <th>PEP_FL</th>\n",
       "      <th>CASH_SUM_IN</th>\n",
       "      <th>CASH_CNT_IN</th>\n",
       "      <th>CASH_SUM_OUT</th>\n",
       "      <th>CASH_CNT_OUT</th>\n",
       "      <th>...</th>\n",
       "      <th>RISK</th>\n",
       "      <th>NAME</th>\n",
       "      <th>GENDER</th>\n",
       "      <th>CUSTOMER_ID</th>\n",
       "      <th>EMAIL_CNT_OUT</th>\n",
       "      <th>EMAIL_SUM_OUT</th>\n",
       "      <th>EMAIL_CNT_IN</th>\n",
       "      <th>EMAIL_SUM_IN</th>\n",
       "      <th>REL_AGE</th>\n",
       "      <th>REL_ADD_DT</th>\n",
       "    </tr>\n",
       "  </thead>\n",
       "  <tbody>\n",
       "    <tr>\n",
       "      <th>0</th>\n",
       "      <td>1981-09-01</td>\n",
       "      <td>2007-07-05</td>\n",
       "      <td>High</td>\n",
       "      <td>1</td>\n",
       "      <td>1</td>\n",
       "      <td>0.0</td>\n",
       "      <td>2577.785</td>\n",
       "      <td>2.0</td>\n",
       "      <td>2851.663</td>\n",
       "      <td>7.0</td>\n",
       "      <td>...</td>\n",
       "      <td>low</td>\n",
       "      <td>Young, Marie Mildren Coleman</td>\n",
       "      <td>Female</td>\n",
       "      <td>935382.0</td>\n",
       "      <td>0.0</td>\n",
       "      <td>0.0</td>\n",
       "      <td>0.0</td>\n",
       "      <td>0.0</td>\n",
       "      <td>38.101370</td>\n",
       "      <td>15.068493</td>\n",
       "    </tr>\n",
       "    <tr>\n",
       "      <th>1</th>\n",
       "      <td>1994-02-21</td>\n",
       "      <td>2019-05-19</td>\n",
       "      <td>High</td>\n",
       "      <td>1</td>\n",
       "      <td>1</td>\n",
       "      <td>0.0</td>\n",
       "      <td>3035.502</td>\n",
       "      <td>2.0</td>\n",
       "      <td>4805.997</td>\n",
       "      <td>15.0</td>\n",
       "      <td>...</td>\n",
       "      <td>low</td>\n",
       "      <td>Mark Stupar Lecy</td>\n",
       "      <td>Male</td>\n",
       "      <td>2305.0</td>\n",
       "      <td>0.0</td>\n",
       "      <td>0.0</td>\n",
       "      <td>0.0</td>\n",
       "      <td>0.0</td>\n",
       "      <td>25.619178</td>\n",
       "      <td>3.189041</td>\n",
       "    </tr>\n",
       "    <tr>\n",
       "      <th>2</th>\n",
       "      <td>1962-11-16</td>\n",
       "      <td>2011-08-02</td>\n",
       "      <td>High</td>\n",
       "      <td>1</td>\n",
       "      <td>1</td>\n",
       "      <td>0.0</td>\n",
       "      <td>1617.571</td>\n",
       "      <td>1.0</td>\n",
       "      <td>3482.809</td>\n",
       "      <td>11.0</td>\n",
       "      <td>...</td>\n",
       "      <td>low</td>\n",
       "      <td>Dean Glasper Wendel Reeves</td>\n",
       "      <td>Male</td>\n",
       "      <td>472403.0</td>\n",
       "      <td>0.0</td>\n",
       "      <td>0.0</td>\n",
       "      <td>0.0</td>\n",
       "      <td>0.0</td>\n",
       "      <td>56.906849</td>\n",
       "      <td>10.989041</td>\n",
       "    </tr>\n",
       "    <tr>\n",
       "      <th>3</th>\n",
       "      <td>1998-06-20</td>\n",
       "      <td>2001-08-15</td>\n",
       "      <td>High</td>\n",
       "      <td>1</td>\n",
       "      <td>1</td>\n",
       "      <td>0.0</td>\n",
       "      <td>3587.042</td>\n",
       "      <td>5.0</td>\n",
       "      <td>1940.943</td>\n",
       "      <td>8.0</td>\n",
       "      <td>...</td>\n",
       "      <td>low</td>\n",
       "      <td>Hulsey, Linda Rauth</td>\n",
       "      <td>Female</td>\n",
       "      <td>227994.0</td>\n",
       "      <td>0.0</td>\n",
       "      <td>0.0</td>\n",
       "      <td>0.0</td>\n",
       "      <td>0.0</td>\n",
       "      <td>21.290411</td>\n",
       "      <td>20.958904</td>\n",
       "    </tr>\n",
       "    <tr>\n",
       "      <th>4</th>\n",
       "      <td>1942-01-24</td>\n",
       "      <td>2012-10-28</td>\n",
       "      <td>High</td>\n",
       "      <td>1</td>\n",
       "      <td>1</td>\n",
       "      <td>0.0</td>\n",
       "      <td>1725.524</td>\n",
       "      <td>2.0</td>\n",
       "      <td>13197.169</td>\n",
       "      <td>43.0</td>\n",
       "      <td>...</td>\n",
       "      <td>low</td>\n",
       "      <td>Carolyn Washington Roberts</td>\n",
       "      <td>Female</td>\n",
       "      <td>418265.0</td>\n",
       "      <td>0.0</td>\n",
       "      <td>0.0</td>\n",
       "      <td>0.0</td>\n",
       "      <td>0.0</td>\n",
       "      <td>77.731507</td>\n",
       "      <td>9.747945</td>\n",
       "    </tr>\n",
       "  </tbody>\n",
       "</table>\n",
       "<p>5 rows × 26 columns</p>\n",
       "</div>"
      ],
      "text/plain": [
       "    BIRTH_DT CUST_ADD_DT OCPTN_NM  RES_CNTRY_CA  CNTRY_OF_INCOME_CA  PEP_FL  \\\n",
       "0 1981-09-01  2007-07-05     High             1                   1     0.0   \n",
       "1 1994-02-21  2019-05-19     High             1                   1     0.0   \n",
       "2 1962-11-16  2011-08-02     High             1                   1     0.0   \n",
       "3 1998-06-20  2001-08-15     High             1                   1     0.0   \n",
       "4 1942-01-24  2012-10-28     High             1                   1     0.0   \n",
       "\n",
       "   CASH_SUM_IN  CASH_CNT_IN  CASH_SUM_OUT  CASH_CNT_OUT  ...  RISK  \\\n",
       "0     2577.785          2.0      2851.663           7.0  ...   low   \n",
       "1     3035.502          2.0      4805.997          15.0  ...   low   \n",
       "2     1617.571          1.0      3482.809          11.0  ...   low   \n",
       "3     3587.042          5.0      1940.943           8.0  ...   low   \n",
       "4     1725.524          2.0     13197.169          43.0  ...   low   \n",
       "\n",
       "                           NAME  GENDER  CUSTOMER_ID EMAIL_CNT_OUT  \\\n",
       "0  Young, Marie Mildren Coleman  Female     935382.0           0.0   \n",
       "1              Mark Stupar Lecy    Male       2305.0           0.0   \n",
       "2    Dean Glasper Wendel Reeves    Male     472403.0           0.0   \n",
       "3           Hulsey, Linda Rauth  Female     227994.0           0.0   \n",
       "4    Carolyn Washington Roberts  Female     418265.0           0.0   \n",
       "\n",
       "  EMAIL_SUM_OUT EMAIL_CNT_IN EMAIL_SUM_IN    REL_AGE  REL_ADD_DT  \n",
       "0           0.0          0.0          0.0  38.101370   15.068493  \n",
       "1           0.0          0.0          0.0  25.619178    3.189041  \n",
       "2           0.0          0.0          0.0  56.906849   10.989041  \n",
       "3           0.0          0.0          0.0  21.290411   20.958904  \n",
       "4           0.0          0.0          0.0  77.731507    9.747945  \n",
       "\n",
       "[5 rows x 26 columns]"
      ]
     },
     "execution_count": 16,
     "metadata": {},
     "output_type": "execute_result"
    }
   ],
   "source": [
    "nodes_occupation_email = nodes_occupation_emailtr\n",
    "calculate_relative_dates(nodes_occupation_email)\n",
    "nodes_occupation_email.head()"
   ]
  },
  {
   "cell_type": "code",
   "execution_count": 17,
   "id": "8ba89aef",
   "metadata": {
    "execution": {
     "iopub.execute_input": "2023-02-08T00:58:28.862980Z",
     "iopub.status.busy": "2023-02-08T00:58:28.862414Z",
     "iopub.status.idle": "2023-02-08T00:58:29.104675Z",
     "shell.execute_reply": "2023-02-08T00:58:29.103962Z"
    },
    "papermill": {
     "duration": 0.258376,
     "end_time": "2023-02-08T00:58:29.106568",
     "exception": false,
     "start_time": "2023-02-08T00:58:28.848192",
     "status": "completed"
    },
    "tags": []
   },
   "outputs": [
    {
     "data": {
      "text/plain": [
       "<AxesSubplot:>"
      ]
     },
     "execution_count": 17,
     "metadata": {},
     "output_type": "execute_result"
    },
    {
     "data": {
      "image/png": "[encoded data removed]",
      "text/plain": [
       "<Figure size 432x288 with 1 Axes>"
      ]
     },
     "metadata": {
      "needs_background": "light"
     },
     "output_type": "display_data"
    }
   ],
   "source": [
    "nodes_occupation_email[\"REL_AGE\"].hist()\n",
    "nodes_occupation_email[\"REL_ADD_DT\"].hist()"
   ]
  },
  {
   "cell_type": "markdown",
   "id": "8b563abe",
   "metadata": {
    "papermill": {
     "duration": 0.013022,
     "end_time": "2023-02-08T00:58:29.133130",
     "exception": false,
     "start_time": "2023-02-08T00:58:29.120108",
     "status": "completed"
    },
    "tags": []
   },
   "source": [
    "**Label Encoding and One Hot Encoding**"
   ]
  },
  {
   "cell_type": "code",
   "execution_count": 18,
   "id": "bc2c114b",
   "metadata": {
    "execution": {
     "iopub.execute_input": "2023-02-08T00:58:29.162171Z",
     "iopub.status.busy": "2023-02-08T00:58:29.161565Z",
     "iopub.status.idle": "2023-02-08T00:58:29.165621Z",
     "shell.execute_reply": "2023-02-08T00:58:29.164995Z"
    },
    "papermill": {
     "duration": 0.020729,
     "end_time": "2023-02-08T00:58:29.167351",
     "exception": false,
     "start_time": "2023-02-08T00:58:29.146622",
     "status": "completed"
    },
    "tags": []
   },
   "outputs": [],
   "source": [
    "LE = LabelEncoder()\n",
    "OE= OneHotEncoder()"
   ]
  },
  {
   "cell_type": "code",
   "execution_count": 19,
   "id": "36d44b55",
   "metadata": {
    "execution": {
     "iopub.execute_input": "2023-02-08T00:58:29.196046Z",
     "iopub.status.busy": "2023-02-08T00:58:29.195166Z",
     "iopub.status.idle": "2023-02-08T00:58:29.400464Z",
     "shell.execute_reply": "2023-02-08T00:58:29.399490Z"
    },
    "papermill": {
     "duration": 0.221981,
     "end_time": "2023-02-08T00:58:29.402732",
     "exception": false,
     "start_time": "2023-02-08T00:58:29.180751",
     "status": "completed"
    },
    "tags": []
   },
   "outputs": [],
   "source": [
    "cropped_dt = nodes_occupation_email[['OCPTN_NM', 'RES_CNTRY_CA',\n",
    "       'CNTRY_OF_INCOME_CA', 'PEP_FL', 'CASH_SUM_IN', 'CASH_CNT_IN',\n",
    "       'CASH_SUM_OUT', 'CASH_CNT_OUT', 'WIRES_SUM_IN', 'WIRES_CNT_IN',\n",
    "       'WIRES_SUM_OUT', 'WIRES_CNT_OUT', 'COUNTRY_RISK_INCOME',\n",
    "       'COUNTRY_RISK_RESIDENCY', 'RISK','GENDER',\n",
    "       'EMAIL_CNT_OUT', 'EMAIL_SUM_OUT', 'EMAIL_CNT_IN', 'EMAIL_SUM_IN',\n",
    "       'REL_AGE', 'REL_ADD_DT']]"
   ]
  },
  {
   "cell_type": "code",
   "execution_count": 20,
   "id": "51d1b323",
   "metadata": {
    "execution": {
     "iopub.execute_input": "2023-02-08T00:58:29.430461Z",
     "iopub.status.busy": "2023-02-08T00:58:29.430154Z",
     "iopub.status.idle": "2023-02-08T00:58:29.435715Z",
     "shell.execute_reply": "2023-02-08T00:58:29.434557Z"
    },
    "papermill": {
     "duration": 0.021736,
     "end_time": "2023-02-08T00:58:29.437686",
     "exception": false,
     "start_time": "2023-02-08T00:58:29.415950",
     "status": "completed"
    },
    "tags": []
   },
   "outputs": [],
   "source": [
    "def one_hot_encode_columns(dif, columns):\n",
    "    df = dif.copy(deep=True)\n",
    "    # one-hot encode all the columns at once using OneHotEncoder\n",
    "    for col in columns:\n",
    "        # one-hot encode the column\n",
    "        df_encoded = pd.get_dummies(df[col], prefix=col)\n",
    "        \n",
    "        # concatenate the encoded dataframe with the original dataframe\n",
    "        df = pd.concat([df, df_encoded], axis=1)\n",
    "        \n",
    "        # drop the original column\n",
    "        df = df.drop(col, axis=1)\n",
    "        \n",
    "    return df"
   ]
  },
  {
   "cell_type": "code",
   "execution_count": 21,
   "id": "0cd63157",
   "metadata": {
    "execution": {
     "iopub.execute_input": "2023-02-08T00:58:29.465244Z",
     "iopub.status.busy": "2023-02-08T00:58:29.464923Z",
     "iopub.status.idle": "2023-02-08T00:58:29.471152Z",
     "shell.execute_reply": "2023-02-08T00:58:29.470195Z"
    },
    "papermill": {
     "duration": 0.022736,
     "end_time": "2023-02-08T00:58:29.473506",
     "exception": false,
     "start_time": "2023-02-08T00:58:29.450770",
     "status": "completed"
    },
    "tags": []
   },
   "outputs": [],
   "source": [
    "def label_encode_columns(dfi, columns):\n",
    "    # create a label encoder for each column\n",
    "    df = dfi.copy(deep=True)\n",
    "    label_encoders = {col: LabelEncoder() for col in columns}\n",
    "\n",
    "    # fit and transform the columns using the label encoders\n",
    "    for col in columns:\n",
    "        df[col] = label_encoders[col].fit_transform(df[col])\n",
    "\n",
    "    # create a dictionary of the mapping of encoded values\n",
    "    encoding_dict = {col: dict(zip(label_encoders[col].classes_, label_encoders[col].transform(label_encoders[col].classes_))) for col in columns}\n",
    "\n",
    "    return df, label_encoders, encoding_dict"
   ]
  },
  {
   "cell_type": "code",
   "execution_count": 22,
   "id": "82c0cf75",
   "metadata": {
    "execution": {
     "iopub.execute_input": "2023-02-08T00:58:29.502575Z",
     "iopub.status.busy": "2023-02-08T00:58:29.502236Z",
     "iopub.status.idle": "2023-02-08T00:58:31.013820Z",
     "shell.execute_reply": "2023-02-08T00:58:31.012364Z"
    },
    "papermill": {
     "duration": 1.528728,
     "end_time": "2023-02-08T00:58:31.016204",
     "exception": false,
     "start_time": "2023-02-08T00:58:29.487476",
     "status": "completed"
    },
    "tags": []
   },
   "outputs": [],
   "source": [
    "df_encoded, label_encoders, encoding_dict = label_encode_columns(one_hot_encode_columns(cropped_dt, [\"GENDER\"]), [\"RISK\",\"COUNTRY_RISK_INCOME\",\"OCPTN_NM\", \"COUNTRY_RISK_RESIDENCY\"])"
   ]
  },
  {
   "cell_type": "code",
   "execution_count": 23,
   "id": "71413df6",
   "metadata": {
    "execution": {
     "iopub.execute_input": "2023-02-08T00:58:31.044312Z",
     "iopub.status.busy": "2023-02-08T00:58:31.043958Z",
     "iopub.status.idle": "2023-02-08T00:58:31.050608Z",
     "shell.execute_reply": "2023-02-08T00:58:31.049627Z"
    },
    "papermill": {
     "duration": 0.022648,
     "end_time": "2023-02-08T00:58:31.052298",
     "exception": false,
     "start_time": "2023-02-08T00:58:31.029650",
     "status": "completed"
    },
    "tags": []
   },
   "outputs": [
    {
     "data": {
      "text/plain": [
       "{'RISK': {'high': 0, 'low': 1, 'medium': 2},\n",
       " 'COUNTRY_RISK_INCOME': {'High': 0, 'Low': 1, 'Moderate': 2},\n",
       " 'OCPTN_NM': {'High': 0, 'Low': 1, 'Moderate': 2},\n",
       " 'COUNTRY_RISK_RESIDENCY': {'High': 0, 'Low': 1, 'Moderate': 2}}"
      ]
     },
     "execution_count": 23,
     "metadata": {},
     "output_type": "execute_result"
    }
   ],
   "source": [
    "encoding_dict"
   ]
  },
  {
   "cell_type": "code",
   "execution_count": 24,
   "id": "ab3bb635",
   "metadata": {
    "execution": {
     "iopub.execute_input": "2023-02-08T00:58:31.080044Z",
     "iopub.status.busy": "2023-02-08T00:58:31.079667Z",
     "iopub.status.idle": "2023-02-08T00:58:31.197496Z",
     "shell.execute_reply": "2023-02-08T00:58:31.195848Z"
    },
    "papermill": {
     "duration": 0.134542,
     "end_time": "2023-02-08T00:58:31.199881",
     "exception": false,
     "start_time": "2023-02-08T00:58:31.065339",
     "status": "completed"
    },
    "tags": []
   },
   "outputs": [],
   "source": [
    "df = df_encoded.astype(float).copy(deep=True)"
   ]
  },
  {
   "cell_type": "code",
   "execution_count": 25,
   "id": "94ed49d8",
   "metadata": {
    "execution": {
     "iopub.execute_input": "2023-02-08T00:58:31.228667Z",
     "iopub.status.busy": "2023-02-08T00:58:31.227921Z",
     "iopub.status.idle": "2023-02-08T00:58:31.235627Z",
     "shell.execute_reply": "2023-02-08T00:58:31.234974Z"
    },
    "papermill": {
     "duration": 0.023686,
     "end_time": "2023-02-08T00:58:31.237145",
     "exception": false,
     "start_time": "2023-02-08T00:58:31.213459",
     "status": "completed"
    },
    "tags": []
   },
   "outputs": [
    {
     "data": {
      "text/plain": [
       "OCPTN_NM                    int64\n",
       "RES_CNTRY_CA                int64\n",
       "CNTRY_OF_INCOME_CA          int64\n",
       "PEP_FL                    float64\n",
       "CASH_SUM_IN               float64\n",
       "CASH_CNT_IN               float64\n",
       "CASH_SUM_OUT              float64\n",
       "CASH_CNT_OUT              float64\n",
       "WIRES_SUM_IN              float64\n",
       "WIRES_CNT_IN              float64\n",
       "WIRES_SUM_OUT             float64\n",
       "WIRES_CNT_OUT             float64\n",
       "COUNTRY_RISK_INCOME         int64\n",
       "COUNTRY_RISK_RESIDENCY      int64\n",
       "RISK                        int64\n",
       "EMAIL_CNT_OUT             float64\n",
       "EMAIL_SUM_OUT             float64\n",
       "EMAIL_CNT_IN              float64\n",
       "EMAIL_SUM_IN              float64\n",
       "REL_AGE                   float64\n",
       "REL_ADD_DT                float64\n",
       "GENDER_Female               uint8\n",
       "GENDER_Male                 uint8\n",
       "dtype: object"
      ]
     },
     "execution_count": 25,
     "metadata": {},
     "output_type": "execute_result"
    }
   ],
   "source": [
    "df_encoded.dtypes"
   ]
  },
  {
   "cell_type": "markdown",
   "id": "9412f8b7",
   "metadata": {
    "papermill": {
     "duration": 0.012957,
     "end_time": "2023-02-08T00:58:31.263635",
     "exception": false,
     "start_time": "2023-02-08T00:58:31.250678",
     "status": "completed"
    },
    "tags": []
   },
   "source": [
    "**Data Analysis**\n",
    "> Dropping Null Values (Previously Done)\n",
    "\n",
    "> Checking through correlation\n",
    "\n",
    "> Doing VIF Analysis"
   ]
  },
  {
   "cell_type": "code",
   "execution_count": 26,
   "id": "2793542c",
   "metadata": {
    "execution": {
     "iopub.execute_input": "2023-02-08T00:58:31.293886Z",
     "iopub.status.busy": "2023-02-08T00:58:31.293233Z",
     "iopub.status.idle": "2023-02-08T00:58:31.300771Z",
     "shell.execute_reply": "2023-02-08T00:58:31.300070Z"
    },
    "papermill": {
     "duration": 0.026024,
     "end_time": "2023-02-08T00:58:31.302932",
     "exception": false,
     "start_time": "2023-02-08T00:58:31.276908",
     "status": "completed"
    },
    "tags": []
   },
   "outputs": [],
   "source": [
    "def remove_collinear_features(xx, threshold):\n",
    "    '''\n",
    "    Objective:\n",
    "        Remove collinear features in a dataframe with a correlation coefficient\n",
    "        greater than the threshold. Removing collinear features can help a model \n",
    "        to generalize and improves the interpretability of the model.\n",
    "\n",
    "    Inputs: \n",
    "        x: features dataframe\n",
    "        threshold: features with correlations greater than this value are removed\n",
    "\n",
    "    Output: \n",
    "        dataframe that contains only the non-highly-collinear features\n",
    "    '''\n",
    "\n",
    "    \n",
    "    # Calculate the correlation matrix\n",
    "    x = xx.copy(deep =True)\n",
    "    corr_matrix = x.corr()\n",
    "    iters = range(len(corr_matrix.columns) - 1)\n",
    "    drop_cols = []\n",
    "\n",
    "    # Iterate through the correlation matrix and compare correlations\n",
    "    for i in iters:\n",
    "        for j in range(i+1):\n",
    "            item = corr_matrix.iloc[j:(j+1), (i+1):(i+2)]\n",
    "            col = item.columns\n",
    "            row = item.index\n",
    "            val = abs(item.values)\n",
    "\n",
    "            # If correlation exceeds the threshold\n",
    "            if val >= threshold:\n",
    "                # Print the correlated features and the correlation value\n",
    "                #print(col.values[0], \"|\", row.values[0], \"|\", round(val[0][0], 2))\n",
    "                drop_cols.append(col.values[0])\n",
    "\n",
    "    # Drop one of each pair of correlated columns\n",
    "    drops = set(drop_cols)\n",
    "    x = x.drop(columns=drops)\n",
    "    print('Removed Columns {}'.format(drops))\n",
    "    return x"
   ]
  },
  {
   "cell_type": "code",
   "execution_count": 27,
   "id": "39ba50ae",
   "metadata": {
    "execution": {
     "iopub.execute_input": "2023-02-08T00:58:31.332678Z",
     "iopub.status.busy": "2023-02-08T00:58:31.332120Z",
     "iopub.status.idle": "2023-02-08T00:58:32.988657Z",
     "shell.execute_reply": "2023-02-08T00:58:32.987560Z"
    },
    "papermill": {
     "duration": 1.673468,
     "end_time": "2023-02-08T00:58:32.990700",
     "exception": false,
     "start_time": "2023-02-08T00:58:31.317232",
     "status": "completed"
    },
    "tags": []
   },
   "outputs": [
    {
     "name": "stdout",
     "output_type": "stream",
     "text": [
      "Removed Columns {'CASH_CNT_IN'}\n"
     ]
    },
    {
     "data": {
      "text/plain": [
       "<AxesSubplot:>"
      ]
     },
     "execution_count": 27,
     "metadata": {},
     "output_type": "execute_result"
    },
    {
     "data": {
      "image/png": "[encoded data removed]",
      "text/plain": [
       "<Figure size 432x288 with 2 Axes>"
      ]
     },
     "metadata": {
      "needs_background": "light"
     },
     "output_type": "display_data"
    }
   ],
   "source": [
    "nodes_uncorellated = remove_collinear_features(nodes_occupation_email, 0.90)\n",
    "sb.heatmap(nodes_uncorellated.corr())"
   ]
  },
  {
   "cell_type": "code",
   "execution_count": 28,
   "id": "fa2e8390",
   "metadata": {
    "execution": {
     "iopub.execute_input": "2023-02-08T00:58:33.021343Z",
     "iopub.status.busy": "2023-02-08T00:58:33.020978Z",
     "iopub.status.idle": "2023-02-08T00:58:53.785311Z",
     "shell.execute_reply": "2023-02-08T00:58:53.784480Z"
    },
    "papermill": {
     "duration": 20.782033,
     "end_time": "2023-02-08T00:58:53.787414",
     "exception": false,
     "start_time": "2023-02-08T00:58:33.005381",
     "status": "completed"
    },
    "tags": []
   },
   "outputs": [
    {
     "name": "stderr",
     "output_type": "stream",
     "text": [
      "/opt/conda/lib/python3.7/site-packages/statsmodels/regression/linear_model.py:1736: RuntimeWarning: divide by zero encountered in double_scalars\n",
      "  return 1 - self.ssr/self.centered_tss\n",
      "/opt/conda/lib/python3.7/site-packages/statsmodels/stats/outliers_influence.py:195: RuntimeWarning: divide by zero encountered in double_scalars\n",
      "  vif = 1. / (1. - r_squared_i)\n"
     ]
    },
    {
     "data": {
      "text/plain": [
       "const                     0.000000\n",
       "OCPTN_NM                  1.025702\n",
       "RES_CNTRY_CA              2.044275\n",
       "CNTRY_OF_INCOME_CA        1.144058\n",
       "PEP_FL                    1.092163\n",
       "CASH_SUM_IN               8.352196\n",
       "CASH_CNT_IN               7.286231\n",
       "CASH_SUM_OUT              6.145823\n",
       "CASH_CNT_OUT              5.162432\n",
       "WIRES_SUM_IN              5.252938\n",
       "WIRES_CNT_IN              2.352489\n",
       "WIRES_SUM_OUT             5.546640\n",
       "WIRES_CNT_OUT             2.808210\n",
       "COUNTRY_RISK_INCOME       1.145676\n",
       "COUNTRY_RISK_RESIDENCY    2.029544\n",
       "EMAIL_CNT_OUT             2.751629\n",
       "EMAIL_SUM_OUT             2.758386\n",
       "EMAIL_CNT_IN              2.750223\n",
       "EMAIL_SUM_IN              2.756729\n",
       "REL_AGE                   1.585833\n",
       "REL_ADD_DT                1.605629\n",
       "GENDER_Female                  inf\n",
       "GENDER_Male                    inf\n",
       "dtype: float64"
      ]
     },
     "execution_count": 28,
     "metadata": {},
     "output_type": "execute_result"
    }
   ],
   "source": [
    "df = df.drop(['RISK'], axis = 1)\n",
    "df = df.astype(float)\n",
    "X = add_constant(df)\n",
    "pd.Series([variance_inflation_factor(X.values, i) \n",
    "               for i in range(X.shape[1])], \n",
    "              index=X.columns)"
   ]
  },
  {
   "cell_type": "markdown",
   "id": "5d110cb4",
   "metadata": {
    "papermill": {
     "duration": 0.018266,
     "end_time": "2023-02-08T00:58:53.824770",
     "exception": false,
     "start_time": "2023-02-08T00:58:53.806504",
     "status": "completed"
    },
    "tags": []
   },
   "source": [
    "The variable **'CASH_CNT_IN'** is showing to have a very high correlation to other relation and has causes high **Varaince Inflation Factor Across (VIF)**"
   ]
  },
  {
   "cell_type": "code",
   "execution_count": 29,
   "id": "3aee91ee",
   "metadata": {
    "execution": {
     "iopub.execute_input": "2023-02-08T00:58:53.863385Z",
     "iopub.status.busy": "2023-02-08T00:58:53.862986Z",
     "iopub.status.idle": "2023-02-08T00:59:12.807264Z",
     "shell.execute_reply": "2023-02-08T00:59:12.806569Z"
    },
    "papermill": {
     "duration": 18.965949,
     "end_time": "2023-02-08T00:59:12.809222",
     "exception": false,
     "start_time": "2023-02-08T00:58:53.843273",
     "status": "completed"
    },
    "tags": []
   },
   "outputs": [
    {
     "data": {
      "text/plain": [
       "const                     0.000000\n",
       "OCPTN_NM                  1.025368\n",
       "RES_CNTRY_CA              2.044082\n",
       "CNTRY_OF_INCOME_CA        1.144056\n",
       "PEP_FL                    1.088359\n",
       "CASH_SUM_IN               1.654211\n",
       "CASH_SUM_OUT              5.959154\n",
       "CASH_CNT_OUT              4.936538\n",
       "WIRES_SUM_IN              5.246362\n",
       "WIRES_CNT_IN              2.352289\n",
       "WIRES_SUM_OUT             5.522387\n",
       "WIRES_CNT_OUT             2.773076\n",
       "COUNTRY_RISK_INCOME       1.145644\n",
       "COUNTRY_RISK_RESIDENCY    2.029526\n",
       "EMAIL_CNT_OUT             2.751429\n",
       "EMAIL_SUM_OUT             2.758116\n",
       "EMAIL_CNT_IN              2.750107\n",
       "EMAIL_SUM_IN              2.756219\n",
       "REL_AGE                   1.583302\n",
       "REL_ADD_DT                1.604906\n",
       "GENDER_Female                  inf\n",
       "GENDER_Male                    inf\n",
       "dtype: float64"
      ]
     },
     "execution_count": 29,
     "metadata": {},
     "output_type": "execute_result"
    }
   ],
   "source": [
    "df = df_encoded.copy(deep=True)\n",
    "df = df.drop(['RISK','CASH_CNT_IN'], axis = 1)\n",
    "df = df.astype(float)\n",
    "X = add_constant(df)\n",
    "pd.Series([variance_inflation_factor(X.values, i) \n",
    "               for i in range(X.shape[1])], \n",
    "              index=X.columns)"
   ]
  },
  {
   "cell_type": "markdown",
   "id": "01e686c7",
   "metadata": {
    "papermill": {
     "duration": 0.018398,
     "end_time": "2023-02-08T00:59:12.846997",
     "exception": false,
     "start_time": "2023-02-08T00:59:12.828599",
     "status": "completed"
    },
    "tags": []
   },
   "source": [
    "After dropping **'CASH_CNT_IN'** the **VIF** dropped across all variables"
   ]
  },
  {
   "cell_type": "code",
   "execution_count": 30,
   "id": "31750451",
   "metadata": {
    "execution": {
     "iopub.execute_input": "2023-02-08T00:59:12.885687Z",
     "iopub.status.busy": "2023-02-08T00:59:12.885318Z",
     "iopub.status.idle": "2023-02-08T00:59:12.932484Z",
     "shell.execute_reply": "2023-02-08T00:59:12.931202Z"
    },
    "papermill": {
     "duration": 0.069206,
     "end_time": "2023-02-08T00:59:12.934764",
     "exception": false,
     "start_time": "2023-02-08T00:59:12.865558",
     "status": "completed"
    },
    "tags": []
   },
   "outputs": [],
   "source": [
    "final_df = df_encoded.drop(['CASH_CNT_IN'], axis = 1)"
   ]
  },
  {
   "cell_type": "markdown",
   "id": "b6e2362b",
   "metadata": {
    "papermill": {
     "duration": 0.014372,
     "end_time": "2023-02-08T00:59:12.964035",
     "exception": false,
     "start_time": "2023-02-08T00:59:12.949663",
     "status": "completed"
    },
    "tags": []
   },
   "source": [
    "**Splitting Data into 1%, 10%, 50%, 100% and dividing into Train, Test and Validation data 20% split in each randomly**"
   ]
  },
  {
   "cell_type": "code",
   "execution_count": 31,
   "id": "f1285387",
   "metadata": {
    "execution": {
     "iopub.execute_input": "2023-02-08T00:59:12.996646Z",
     "iopub.status.busy": "2023-02-08T00:59:12.995982Z",
     "iopub.status.idle": "2023-02-08T00:59:13.002699Z",
     "shell.execute_reply": "2023-02-08T00:59:13.001994Z"
    },
    "papermill": {
     "duration": 0.024953,
     "end_time": "2023-02-08T00:59:13.004601",
     "exception": false,
     "start_time": "2023-02-08T00:59:12.979648",
     "status": "completed"
    },
    "tags": []
   },
   "outputs": [],
   "source": [
    "def get_data_subsets(df, target_col, fracs=[0.01, 0.1, 0.5, 1.0]):\n",
    "    subsets = {}\n",
    "    \n",
    "    for frac in fracs:\n",
    "        subset = df.sample(frac=frac)\n",
    "        X = subset.drop(target_col, axis=1)\n",
    "        y = subset[target_col]\n",
    "        X_train, X_test, y_train, y_test = train_test_split(X, y, test_size=0.2)\n",
    "        X_train, X_val, y_train, y_val = train_test_split(X_train, y_train, test_size=0.2)\n",
    "        \n",
    "        subsets[f\"{int(frac*100)}%\"] = {\n",
    "            'X_train': X_train,\n",
    "            'X_test': X_test,\n",
    "            'X_val': X_val,\n",
    "            'y_train': y_train,\n",
    "            'y_test': y_test,\n",
    "            'y_val': y_val\n",
    "        }\n",
    "        \n",
    "    return subsets"
   ]
  },
  {
   "cell_type": "code",
   "execution_count": 32,
   "id": "5543b139",
   "metadata": {
    "execution": {
     "iopub.execute_input": "2023-02-08T00:59:13.036316Z",
     "iopub.status.busy": "2023-02-08T00:59:13.035730Z",
     "iopub.status.idle": "2023-02-08T00:59:14.038644Z",
     "shell.execute_reply": "2023-02-08T00:59:14.037714Z"
    },
    "papermill": {
     "duration": 1.021348,
     "end_time": "2023-02-08T00:59:14.040908",
     "exception": false,
     "start_time": "2023-02-08T00:59:13.019560",
     "status": "completed"
    },
    "tags": []
   },
   "outputs": [],
   "source": [
    "data_subsets = get_data_subsets(final_df, 'RISK')"
   ]
  },
  {
   "cell_type": "markdown",
   "id": "460719c5",
   "metadata": {
    "papermill": {
     "duration": 0.015784,
     "end_time": "2023-02-08T00:59:14.071483",
     "exception": false,
     "start_time": "2023-02-08T00:59:14.055699",
     "status": "completed"
    },
    "tags": []
   },
   "source": [
    "*Accessing the data*"
   ]
  },
  {
   "cell_type": "code",
   "execution_count": 33,
   "id": "067ef799",
   "metadata": {
    "execution": {
     "iopub.execute_input": "2023-02-08T00:59:14.103288Z",
     "iopub.status.busy": "2023-02-08T00:59:14.102916Z",
     "iopub.status.idle": "2023-02-08T00:59:14.108502Z",
     "shell.execute_reply": "2023-02-08T00:59:14.107604Z"
    },
    "papermill": {
     "duration": 0.02339,
     "end_time": "2023-02-08T00:59:14.110347",
     "exception": false,
     "start_time": "2023-02-08T00:59:14.086957",
     "status": "completed"
    },
    "tags": []
   },
   "outputs": [],
   "source": [
    "def get_data_by_percentage(data_subsets, percentage):\n",
    "    key = f\"{percentage}%\"\n",
    "    if key in data_subsets:\n",
    "        data = data_subsets[key]\n",
    "        X_train = data['X_train']\n",
    "        y_train = data['y_train']\n",
    "        X_test = data['X_test']\n",
    "        y_test = data['y_test']\n",
    "        X_val = data['X_val']\n",
    "        y_val = data['y_val']\n",
    "        return X_train, y_train, X_test, y_test, X_val, y_val\n",
    "    else:\n",
    "        raise ValueError(f\"Percentage {percentage}% not found in data subsets.\")\n"
   ]
  },
  {
   "cell_type": "code",
   "execution_count": 34,
   "id": "d6b7edc7",
   "metadata": {
    "execution": {
     "iopub.execute_input": "2023-02-08T00:59:14.141793Z",
     "iopub.status.busy": "2023-02-08T00:59:14.140900Z",
     "iopub.status.idle": "2023-02-08T00:59:14.145434Z",
     "shell.execute_reply": "2023-02-08T00:59:14.144811Z"
    },
    "papermill": {
     "duration": 0.021976,
     "end_time": "2023-02-08T00:59:14.147200",
     "exception": false,
     "start_time": "2023-02-08T00:59:14.125224",
     "status": "completed"
    },
    "tags": []
   },
   "outputs": [],
   "source": [
    "# Example Usage for 1%\n",
    "# Get the data for a specified percentage\n",
    "X_train, y_train, X_test, y_test, X_val, y_val = get_data_by_percentage(data_subsets, 1)"
   ]
  },
  {
   "cell_type": "markdown",
   "id": "bfb3b43b",
   "metadata": {
    "papermill": {
     "duration": 0.014113,
     "end_time": "2023-02-08T00:59:14.175856",
     "exception": false,
     "start_time": "2023-02-08T00:59:14.161743",
     "status": "completed"
    },
    "tags": []
   },
   "source": [
    "**Storing data into Pickles**"
   ]
  },
  {
   "cell_type": "code",
   "execution_count": 35,
   "id": "cd7cd552",
   "metadata": {
    "execution": {
     "iopub.execute_input": "2023-02-08T00:59:14.207155Z",
     "iopub.status.busy": "2023-02-08T00:59:14.206503Z",
     "iopub.status.idle": "2023-02-08T00:59:14.453523Z",
     "shell.execute_reply": "2023-02-08T00:59:14.452613Z"
    },
    "papermill": {
     "duration": 0.265044,
     "end_time": "2023-02-08T00:59:14.455582",
     "exception": false,
     "start_time": "2023-02-08T00:59:14.190538",
     "status": "completed"
    },
    "tags": []
   },
   "outputs": [],
   "source": [
    "pickle.dump( data_subsets, open( \"divided_data.p\", \"wb\" ) )"
   ]
  },
  {
   "cell_type": "code",
   "execution_count": 36,
   "id": "63a2179f",
   "metadata": {
    "execution": {
     "iopub.execute_input": "2023-02-08T00:59:14.487179Z",
     "iopub.status.busy": "2023-02-08T00:59:14.486634Z",
     "iopub.status.idle": "2023-02-08T00:59:14.490687Z",
     "shell.execute_reply": "2023-02-08T00:59:14.489580Z"
    },
    "papermill": {
     "duration": 0.022913,
     "end_time": "2023-02-08T00:59:14.493620",
     "exception": false,
     "start_time": "2023-02-08T00:59:14.470707",
     "status": "completed"
    },
    "tags": []
   },
   "outputs": [],
   "source": [
    "# Example Import\n",
    "#data_subsets = pickle.load( open( \"divided_data.p\", \"rb\" ) )"
   ]
  },
  {
   "cell_type": "code",
   "execution_count": 37,
   "id": "c479047a",
   "metadata": {
    "execution": {
     "iopub.execute_input": "2023-02-08T00:59:14.525025Z",
     "iopub.status.busy": "2023-02-08T00:59:14.523939Z",
     "iopub.status.idle": "2023-02-08T00:59:14.527694Z",
     "shell.execute_reply": "2023-02-08T00:59:14.527090Z"
    },
    "papermill": {
     "duration": 0.021313,
     "end_time": "2023-02-08T00:59:14.529869",
     "exception": false,
     "start_time": "2023-02-08T00:59:14.508556",
     "status": "completed"
    },
    "tags": []
   },
   "outputs": [],
   "source": [
    "## Google Drive Link for divided_data.p\n",
    "## https://drive.google.com/file/d/1ZrEg-9708-n1A74kj1GM8-RTUSmcGkxk/view?usp=sharing"
   ]
  }
 ],
 "metadata": {
  "kernelspec": {
   "display_name": "Python 3",
   "language": "python",
   "name": "python3"
  },
  "language_info": {
   "codemirror_mode": {
    "name": "ipython",
    "version": 3
   },
   "file_extension": ".py",
   "mimetype": "text/x-python",
   "name": "python",
   "nbconvert_exporter": "python",
   "pygments_lexer": "ipython3",
   "version": "3.7.12"
  },
  "papermill": {
   "default_parameters": {},
   "duration": 91.828767,
   "end_time": "2023-02-08T00:59:15.467119",
   "environment_variables": {},
   "exception": null,
   "input_path": "__notebook__.ipynb",
   "output_path": "__notebook__.ipynb",
   "parameters": {},
   "start_time": "2023-02-08T00:57:43.638352",
   "version": "2.3.4"
  }
 },
 "nbformat": 4,
 "nbformat_minor": 5
}
